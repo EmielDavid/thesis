{
 "cells": [
  {
   "cell_type": "code",
   "execution_count": 1,
   "metadata": {},
   "outputs": [],
   "source": [
    "import pandas as pd\n",
    "df = pd.read_csv (r'data.csv')\n",
    "\n",
    "import numpy as np\n",
    "import matplotlib.mlab as mlab\n",
    "import matplotlib.pyplot as plt\n",
    "import nltk\n",
    "import re\n"
   ]
  },
  {
   "cell_type": "code",
   "execution_count": 3,
   "metadata": {},
   "outputs": [],
   "source": [
    "# all mime data\n",
    "mime = df[df['study'] == 'Mime']\n",
    "# all ai data\n",
    "ai = df[df['study'] == 'Bsc Artificial Intelligence']\n",
    "# all proefpersoon data\n",
    "proef = df[df['survey'] == 'p']\n",
    "# all data\n",
    "d = df[df['study'] != '-'] "
   ]
  },
  {
   "cell_type": "code",
   "execution_count": 4,
   "metadata": {},
   "outputs": [],
   "source": [
    "STOP_WORDS = nltk.corpus.stopwords.words()\n",
    "def clean_sentence(val):\n",
    "    \"\"\"code taken (but slightly altered) from https://www.kaggle.com/antriksh5235/semantic-similarity-using-wordnet\"\"\"\n",
    "    \"remove chars that are not letters or numbers, downcase, then remove stop words\"\n",
    "    regex = re.compile('([^\\s\\w]|_)+')\n",
    "    sentence = regex.sub(' ', val).lower()\n",
    "    sentence = sentence.split(\" \")\n",
    "\n",
    "    for word in list(sentence):\n",
    "        if word in STOP_WORDS:\n",
    "            sentence.remove(word)\n",
    "\n",
    "    sentence = \" \".join(sentence)\n",
    "    return sentence\n",
    "\n",
    "\n",
    "def cleaner(df, behaviour):\n",
    "    return [clean_sentence(words) for words in df['describe_'+str(behaviour)]]"
   ]
  },
  {
   "cell_type": "code",
   "execution_count": 5,
   "metadata": {},
   "outputs": [],
   "source": [
    "# d['describe_5']\n",
    "# print(STOP_WORDS)"
   ]
  },
  {
   "cell_type": "code",
   "execution_count": 6,
   "metadata": {},
   "outputs": [],
   "source": [
    "d_1 = cleaner(d, 1)\n",
    "d_2 = cleaner(d, 2)\n",
    "d_3 = cleaner(d, 3)\n",
    "d_4 = cleaner(d, 4)\n",
    "d_5 = cleaner(d, 5)\n",
    "d_6 = cleaner(d, 6)\n",
    "d_7 = cleaner(d, 7)\n",
    "d_8 = cleaner(d, 8)\n",
    "\n",
    "m_1 = cleaner(mime, 1)\n",
    "m_2 = cleaner(mime, 2)\n",
    "m_3 = cleaner(mime, 3)\n",
    "m_4 = cleaner(mime, 4)\n",
    "m_5 = cleaner(mime, 5)\n",
    "m_6 = cleaner(mime, 6)\n",
    "m_7 = cleaner(mime, 7)\n",
    "m_8 = cleaner(mime, 8)\n",
    "\n",
    "a_1 = cleaner(ai, 1)\n",
    "a_2 = cleaner(ai, 2)\n",
    "a_3 = cleaner(ai, 3)\n",
    "a_4 = cleaner(ai, 4)\n",
    "a_5 = cleaner(ai, 5)\n",
    "a_6 = cleaner(ai, 6)\n",
    "a_7 = cleaner(ai, 7)\n",
    "a_8 = cleaner(ai, 8)"
   ]
  },
  {
   "cell_type": "code",
   "execution_count": 5,
   "metadata": {},
   "outputs": [
    {
     "name": "stdout",
     "output_type": "stream",
     "text": [
      "d: ['lost courage', 'seems disappointed', 'nao rot felt sorry', 'communicating  thank ', 'mad', 'disappointment', 'could  slow  nod  hanging head indicate feeling ', 'looking feet ', 'robot seemed disappointed', 'looked unsure unhappy', 'feeling guilty sorry', 'thankful ', 'guilty apologetic', 'nao sad', 'got sad felt bad', 'lowering head ', 'shy', 'disappointed feeling sorry something', 'sad', 'bow head  salute ', 'felt remorse', 'greating submissively ', 'feeling guilty', 'bird dropping dead front nao', ' think thats good idea  sure  join  quite sure ', 'shame', 'looking  realising shoelace untied something ', 'feeling sad helpless ', 'feeling shy', 'ashamed']\n",
      "m: ['lost courage', 'seems disappointed', 'nao rot felt sorry', 'communicating  thank ', 'mad', 'feeling guilty sorry', 'guilty apologetic', 'got sad felt bad', 'disappointed feeling sorry something', 'sad', 'bow head  salute ', 'felt remorse', 'greating submissively ', 'feeling guilty', 'bird dropping dead front nao', ' think thats good idea  sure  join  quite sure ']\n"
     ]
    }
   ],
   "source": [
    "print('d:',d_2)\n",
    "print('m:',m_2)\n",
    "# print(a_2)"
   ]
  },
  {
   "cell_type": "code",
   "execution_count": 7,
   "metadata": {},
   "outputs": [
    {
     "data": {
      "text/plain": [
       "[['waving', 'hi', 'bye'],\n",
       " ['think', 'greeting'],\n",
       " ['saying', 'waving', 'hand'],\n",
       " ['waving', 'hello'],\n",
       " ['think', 'waving', 'get', 'attention'],\n",
       " ['saying', 'hi', 'wave'],\n",
       " ['waving', 'greeting', 'goodbye'],\n",
       " ['waving'],\n",
       " ['waving'],\n",
       " ['waving', 'hello'],\n",
       " ['waving'],\n",
       " ['waving', 'someone'],\n",
       " ['waving', 'goodbye'],\n",
       " ['waving'],\n",
       " ['waving'],\n",
       " ['pointing', 'towards', 'something'],\n",
       " ['waving', 'greeting'],\n",
       " ['trying',\n",
       "  'attract',\n",
       "  'attention',\n",
       "  'say',\n",
       "  'hi',\n",
       "  'case',\n",
       "  'creepy',\n",
       "  'three',\n",
       "  'fingered',\n",
       "  'wave'],\n",
       " ['waving', 'goodbye'],\n",
       " ['waving'],\n",
       " ['waving'],\n",
       " ['waving'],\n",
       " ['saying', 'goodbye'],\n",
       " ['waving'],\n",
       " ['waving', 'order', 'somehting', 'like', 'restaurant'],\n",
       " ['waving'],\n",
       " ['waving'],\n",
       " ['waving'],\n",
       " ['waving'],\n",
       " ['waving']]"
      ]
     },
     "execution_count": 7,
     "metadata": {},
     "output_type": "execute_result"
    }
   ],
   "source": [
    "def make_sentence(lst):\n",
    "    l = []\n",
    "    for i in lst:\n",
    "        word = ' '.join(i.split())\n",
    "        words = word.split(' ')\n",
    "#         if word not in ['nao', 'robot']:\n",
    "#         for i in words:\n",
    "#             w_l = []\n",
    "#             if i not in ['nao', 'robot']:\n",
    "#                 w_l.append(i)\n",
    "        l.append(words)\n",
    "    return l\n",
    "\n",
    "def rem_string(lst,string):\n",
    "    fin = []\n",
    "    for answer in lst:\n",
    "        words = []\n",
    "        for word in answer:\n",
    "            if word != string:\n",
    "                words.append(word)\n",
    "        fin.append(words)\n",
    "#         print(answer)\n",
    "#         fin.append([answer for i in lst if i != string])\n",
    "    return fin\n",
    "    \n",
    "# dik = make_sentence(d_1)\n",
    "# di = rem_string(dik, 'nao')\n",
    "# rem_string(di, 'robot')\n",
    "\n",
    "# print(dik)\n",
    "def clean_data(df):\n",
    "    \"\"\"Cleans all data\"\"\"\n",
    "    # parses all data\n",
    "    pars = make_sentence(df)\n",
    "    # removes all occurences of nao\n",
    "    nao = rem_string(pars, 'nao')\n",
    "    # removes all occurences of robot\n",
    "    clean = rem_string(nao, 'robot')\n",
    "    return clean\n",
    "\n",
    "clean_data(d_1)"
   ]
  },
  {
   "cell_type": "code",
   "execution_count": 45,
   "metadata": {},
   "outputs": [
    {
     "data": {
      "text/plain": [
       "<gensim.models.word2vec.Word2Vec at 0x1058be940>"
      ]
     },
     "execution_count": 45,
     "metadata": {},
     "output_type": "execute_result"
    }
   ],
   "source": [
    "import gensim\n",
    "from gensim.models import Word2Vec\n",
    "\n",
    "\n",
    "model = Word2Vec(d_1, min_count=1, workers= 3, window=3, sg=1)"
   ]
  },
  {
   "cell_type": "code",
   "execution_count": 53,
   "metadata": {},
   "outputs": [
    {
     "ename": "KeyError",
     "evalue": "\"Key 'waving' not present\"",
     "output_type": "error",
     "traceback": [
      "\u001b[0;31m---------------------------------------------------------------------------\u001b[0m",
      "\u001b[0;31mKeyError\u001b[0m                                  Traceback (most recent call last)",
      "\u001b[0;32m<ipython-input-53-0840ff730a67>\u001b[0m in \u001b[0;36m<module>\u001b[0;34m()\u001b[0m\n\u001b[1;32m      1\u001b[0m \u001b[0mvocab_len\u001b[0m \u001b[0;34m=\u001b[0m \u001b[0mlen\u001b[0m\u001b[0;34m(\u001b[0m\u001b[0mmodel\u001b[0m\u001b[0;34m.\u001b[0m\u001b[0mwv\u001b[0m\u001b[0;34m)\u001b[0m\u001b[0;34m\u001b[0m\u001b[0m\n\u001b[0;32m----> 2\u001b[0;31m \u001b[0mmodel\u001b[0m\u001b[0;34m.\u001b[0m\u001b[0mwv\u001b[0m\u001b[0;34m.\u001b[0m\u001b[0mmost_similar\u001b[0m\u001b[0;34m(\u001b[0m\u001b[0;34m\"waving\"\u001b[0m\u001b[0;34m)\u001b[0m\u001b[0;34m\u001b[0m\u001b[0m\n\u001b[0m\u001b[1;32m      3\u001b[0m \u001b[0;31m# words = list(model.wv.vocab)\u001b[0m\u001b[0;34m\u001b[0m\u001b[0;34m\u001b[0m\u001b[0m\n\u001b[1;32m      4\u001b[0m \u001b[0;31m# print(words)\u001b[0m\u001b[0;34m\u001b[0m\u001b[0;34m\u001b[0m\u001b[0m\n\u001b[1;32m      5\u001b[0m \u001b[0mprint\u001b[0m\u001b[0;34m(\u001b[0m\u001b[0mvocab_len\u001b[0m\u001b[0;34m)\u001b[0m\u001b[0;34m\u001b[0m\u001b[0m\n",
      "\u001b[0;32m/Library/Frameworks/Python.framework/Versions/3.6/lib/python3.6/site-packages/gensim/models/keyedvectors.py\u001b[0m in \u001b[0;36mmost_similar\u001b[0;34m(self, positive, negative, topn, clip_start, clip_end, restrict_vocab, indexer)\u001b[0m\n\u001b[1;32m    760\u001b[0m                 \u001b[0mmean\u001b[0m\u001b[0;34m.\u001b[0m\u001b[0mappend\u001b[0m\u001b[0;34m(\u001b[0m\u001b[0mweight\u001b[0m \u001b[0;34m*\u001b[0m \u001b[0mkey\u001b[0m\u001b[0;34m)\u001b[0m\u001b[0;34m\u001b[0m\u001b[0m\n\u001b[1;32m    761\u001b[0m             \u001b[0;32melse\u001b[0m\u001b[0;34m:\u001b[0m\u001b[0;34m\u001b[0m\u001b[0m\n\u001b[0;32m--> 762\u001b[0;31m                 \u001b[0mmean\u001b[0m\u001b[0;34m.\u001b[0m\u001b[0mappend\u001b[0m\u001b[0;34m(\u001b[0m\u001b[0mweight\u001b[0m \u001b[0;34m*\u001b[0m \u001b[0mself\u001b[0m\u001b[0;34m.\u001b[0m\u001b[0mget_vector\u001b[0m\u001b[0;34m(\u001b[0m\u001b[0mkey\u001b[0m\u001b[0;34m,\u001b[0m \u001b[0mnorm\u001b[0m\u001b[0;34m=\u001b[0m\u001b[0;32mTrue\u001b[0m\u001b[0;34m)\u001b[0m\u001b[0;34m)\u001b[0m\u001b[0;34m\u001b[0m\u001b[0m\n\u001b[0m\u001b[1;32m    763\u001b[0m                 \u001b[0;32mif\u001b[0m \u001b[0mself\u001b[0m\u001b[0;34m.\u001b[0m\u001b[0mhas_index_for\u001b[0m\u001b[0;34m(\u001b[0m\u001b[0mkey\u001b[0m\u001b[0;34m)\u001b[0m\u001b[0;34m:\u001b[0m\u001b[0;34m\u001b[0m\u001b[0m\n\u001b[1;32m    764\u001b[0m                     \u001b[0mall_keys\u001b[0m\u001b[0;34m.\u001b[0m\u001b[0madd\u001b[0m\u001b[0;34m(\u001b[0m\u001b[0mself\u001b[0m\u001b[0;34m.\u001b[0m\u001b[0mget_index\u001b[0m\u001b[0;34m(\u001b[0m\u001b[0mkey\u001b[0m\u001b[0;34m)\u001b[0m\u001b[0;34m)\u001b[0m\u001b[0;34m\u001b[0m\u001b[0m\n",
      "\u001b[0;32m/Library/Frameworks/Python.framework/Versions/3.6/lib/python3.6/site-packages/gensim/models/keyedvectors.py\u001b[0m in \u001b[0;36mget_vector\u001b[0;34m(self, key, norm)\u001b[0m\n\u001b[1;32m    420\u001b[0m \u001b[0;34m\u001b[0m\u001b[0m\n\u001b[1;32m    421\u001b[0m         \"\"\"\n\u001b[0;32m--> 422\u001b[0;31m         \u001b[0mindex\u001b[0m \u001b[0;34m=\u001b[0m \u001b[0mself\u001b[0m\u001b[0;34m.\u001b[0m\u001b[0mget_index\u001b[0m\u001b[0;34m(\u001b[0m\u001b[0mkey\u001b[0m\u001b[0;34m)\u001b[0m\u001b[0;34m\u001b[0m\u001b[0m\n\u001b[0m\u001b[1;32m    423\u001b[0m         \u001b[0;32mif\u001b[0m \u001b[0mnorm\u001b[0m\u001b[0;34m:\u001b[0m\u001b[0;34m\u001b[0m\u001b[0m\n\u001b[1;32m    424\u001b[0m             \u001b[0mself\u001b[0m\u001b[0;34m.\u001b[0m\u001b[0mfill_norms\u001b[0m\u001b[0;34m(\u001b[0m\u001b[0;34m)\u001b[0m\u001b[0;34m\u001b[0m\u001b[0m\n",
      "\u001b[0;32m/Library/Frameworks/Python.framework/Versions/3.6/lib/python3.6/site-packages/gensim/models/keyedvectors.py\u001b[0m in \u001b[0;36mget_index\u001b[0;34m(self, key, default)\u001b[0m\n\u001b[1;32m    394\u001b[0m             \u001b[0;32mreturn\u001b[0m \u001b[0mdefault\u001b[0m\u001b[0;34m\u001b[0m\u001b[0m\n\u001b[1;32m    395\u001b[0m         \u001b[0;32melse\u001b[0m\u001b[0;34m:\u001b[0m\u001b[0;34m\u001b[0m\u001b[0m\n\u001b[0;32m--> 396\u001b[0;31m             \u001b[0;32mraise\u001b[0m \u001b[0mKeyError\u001b[0m\u001b[0;34m(\u001b[0m\u001b[0;34mf\"Key '{key}' not present\"\u001b[0m\u001b[0;34m)\u001b[0m\u001b[0;34m\u001b[0m\u001b[0m\n\u001b[0m\u001b[1;32m    397\u001b[0m \u001b[0;34m\u001b[0m\u001b[0m\n\u001b[1;32m    398\u001b[0m     \u001b[0;32mdef\u001b[0m \u001b[0mget_vector\u001b[0m\u001b[0;34m(\u001b[0m\u001b[0mself\u001b[0m\u001b[0;34m,\u001b[0m \u001b[0mkey\u001b[0m\u001b[0;34m,\u001b[0m \u001b[0mnorm\u001b[0m\u001b[0;34m=\u001b[0m\u001b[0;32mFalse\u001b[0m\u001b[0;34m)\u001b[0m\u001b[0;34m:\u001b[0m\u001b[0;34m\u001b[0m\u001b[0m\n",
      "\u001b[0;31mKeyError\u001b[0m: \"Key 'waving' not present\""
     ]
    }
   ],
   "source": [
    "vocab_len = len(model.wv)\n",
    "model.wv.most_similar(\"waving\")\n",
    "# words = list(model.wv.vocab)\n",
    "# print(words)\n",
    "print(vocab_len)"
   ]
  },
  {
   "cell_type": "code",
   "execution_count": 43,
   "metadata": {},
   "outputs": [
    {
     "ename": "AttributeError",
     "evalue": "'Word2Vec' object has no attribute 'most_similar'",
     "output_type": "error",
     "traceback": [
      "\u001b[0;31m---------------------------------------------------------------------------\u001b[0m",
      "\u001b[0;31mAttributeError\u001b[0m                            Traceback (most recent call last)",
      "\u001b[0;32m<ipython-input-43-e28581fd90dd>\u001b[0m in \u001b[0;36m<module>\u001b[0;34m()\u001b[0m\n\u001b[1;32m      2\u001b[0m \u001b[0mmodel_word_vector\u001b[0m \u001b[0;34m=\u001b[0m \u001b[0mnp\u001b[0m\u001b[0;34m.\u001b[0m\u001b[0marray\u001b[0m\u001b[0;34m(\u001b[0m \u001b[0;34m'waving'\u001b[0m\u001b[0;34m,\u001b[0m \u001b[0mdtype\u001b[0m\u001b[0;34m=\u001b[0m\u001b[0;34m'str'\u001b[0m\u001b[0;34m)\u001b[0m\u001b[0;34m\u001b[0m\u001b[0m\n\u001b[1;32m      3\u001b[0m \u001b[0mtopn\u001b[0m \u001b[0;34m=\u001b[0m \u001b[0;36m20\u001b[0m\u001b[0;34m;\u001b[0m\u001b[0;34m\u001b[0m\u001b[0m\n\u001b[0;32m----> 4\u001b[0;31m \u001b[0mmost_similar_words\u001b[0m \u001b[0;34m=\u001b[0m \u001b[0mmodel\u001b[0m\u001b[0;34m.\u001b[0m\u001b[0mmost_similar\u001b[0m\u001b[0;34m(\u001b[0m \u001b[0;34m[\u001b[0m \u001b[0mmodel_word_vector\u001b[0m \u001b[0;34m]\u001b[0m\u001b[0;34m,\u001b[0m \u001b[0;34m[\u001b[0m\u001b[0;34m]\u001b[0m\u001b[0;34m,\u001b[0m \u001b[0mtopn\u001b[0m\u001b[0;34m)\u001b[0m\u001b[0;34m\u001b[0m\u001b[0m\n\u001b[0m\u001b[1;32m      5\u001b[0m \u001b[0;31m# model['waving']\u001b[0m\u001b[0;34m\u001b[0m\u001b[0;34m\u001b[0m\u001b[0m\n\u001b[1;32m      6\u001b[0m \u001b[0;31m# word_vectors.similarity('woman', 'man')\u001b[0m\u001b[0;34m\u001b[0m\u001b[0;34m\u001b[0m\u001b[0m\n",
      "\u001b[0;31mAttributeError\u001b[0m: 'Word2Vec' object has no attribute 'most_similar'"
     ]
    }
   ],
   "source": [
    "import numpy as np\n",
    "model_word_vector = np.array( 'waving', dtype='str')\n",
    "topn = 20;\n",
    "most_similar_words = model.most_similar( [ model_word_vector ], [], topn)\n",
    "# model['waving']\n",
    "# word_vectors.similarity('woman', 'man')"
   ]
  },
  {
   "cell_type": "code",
   "execution_count": 8,
   "metadata": {},
   "outputs": [
    {
     "ename": "KeyError",
     "evalue": "'Make'",
     "output_type": "error",
     "traceback": [
      "\u001b[0;31m---------------------------------------------------------------------------\u001b[0m",
      "\u001b[0;31mKeyError\u001b[0m                                  Traceback (most recent call last)",
      "\u001b[0;32m/Library/Frameworks/Python.framework/Versions/3.6/lib/python3.6/site-packages/pandas/core/indexes/base.py\u001b[0m in \u001b[0;36mget_loc\u001b[0;34m(self, key, method, tolerance)\u001b[0m\n\u001b[1;32m   2521\u001b[0m             \u001b[0;32mtry\u001b[0m\u001b[0;34m:\u001b[0m\u001b[0;34m\u001b[0m\u001b[0m\n\u001b[0;32m-> 2522\u001b[0;31m                 \u001b[0;32mreturn\u001b[0m \u001b[0mself\u001b[0m\u001b[0;34m.\u001b[0m\u001b[0m_engine\u001b[0m\u001b[0;34m.\u001b[0m\u001b[0mget_loc\u001b[0m\u001b[0;34m(\u001b[0m\u001b[0mkey\u001b[0m\u001b[0;34m)\u001b[0m\u001b[0;34m\u001b[0m\u001b[0m\n\u001b[0m\u001b[1;32m   2523\u001b[0m             \u001b[0;32mexcept\u001b[0m \u001b[0mKeyError\u001b[0m\u001b[0;34m:\u001b[0m\u001b[0;34m\u001b[0m\u001b[0m\n",
      "\u001b[0;32mpandas/_libs/index.pyx\u001b[0m in \u001b[0;36mpandas._libs.index.IndexEngine.get_loc\u001b[0;34m()\u001b[0m\n",
      "\u001b[0;32mpandas/_libs/index.pyx\u001b[0m in \u001b[0;36mpandas._libs.index.IndexEngine.get_loc\u001b[0;34m()\u001b[0m\n",
      "\u001b[0;32mpandas/_libs/hashtable_class_helper.pxi\u001b[0m in \u001b[0;36mpandas._libs.hashtable.PyObjectHashTable.get_item\u001b[0;34m()\u001b[0m\n",
      "\u001b[0;32mpandas/_libs/hashtable_class_helper.pxi\u001b[0m in \u001b[0;36mpandas._libs.hashtable.PyObjectHashTable.get_item\u001b[0;34m()\u001b[0m\n",
      "\u001b[0;31mKeyError\u001b[0m: 'Make'",
      "\nDuring handling of the above exception, another exception occurred:\n",
      "\u001b[0;31mKeyError\u001b[0m                                  Traceback (most recent call last)",
      "\u001b[0;32m<ipython-input-8-87e8066d5d72>\u001b[0m in \u001b[0;36m<module>\u001b[0;34m()\u001b[0m\n\u001b[1;32m      1\u001b[0m \u001b[0;34m\u001b[0m\u001b[0m\n\u001b[0;32m----> 2\u001b[0;31m \u001b[0md\u001b[0m\u001b[0;34m[\u001b[0m\u001b[0;34m'Maker_Model'\u001b[0m\u001b[0;34m]\u001b[0m\u001b[0;34m=\u001b[0m \u001b[0md\u001b[0m\u001b[0;34m[\u001b[0m\u001b[0;34m'Make'\u001b[0m\u001b[0;34m]\u001b[0m\u001b[0;34m+\u001b[0m \u001b[0;34m\" \"\u001b[0m \u001b[0;34m+\u001b[0m \u001b[0md\u001b[0m\u001b[0;34m[\u001b[0m\u001b[0;34m'Model'\u001b[0m\u001b[0;34m]\u001b[0m\u001b[0;34m\u001b[0m\u001b[0m\n\u001b[0m",
      "\u001b[0;32m/Library/Frameworks/Python.framework/Versions/3.6/lib/python3.6/site-packages/pandas/core/frame.py\u001b[0m in \u001b[0;36m__getitem__\u001b[0;34m(self, key)\u001b[0m\n\u001b[1;32m   2137\u001b[0m             \u001b[0;32mreturn\u001b[0m \u001b[0mself\u001b[0m\u001b[0;34m.\u001b[0m\u001b[0m_getitem_multilevel\u001b[0m\u001b[0;34m(\u001b[0m\u001b[0mkey\u001b[0m\u001b[0;34m)\u001b[0m\u001b[0;34m\u001b[0m\u001b[0m\n\u001b[1;32m   2138\u001b[0m         \u001b[0;32melse\u001b[0m\u001b[0;34m:\u001b[0m\u001b[0;34m\u001b[0m\u001b[0m\n\u001b[0;32m-> 2139\u001b[0;31m             \u001b[0;32mreturn\u001b[0m \u001b[0mself\u001b[0m\u001b[0;34m.\u001b[0m\u001b[0m_getitem_column\u001b[0m\u001b[0;34m(\u001b[0m\u001b[0mkey\u001b[0m\u001b[0;34m)\u001b[0m\u001b[0;34m\u001b[0m\u001b[0m\n\u001b[0m\u001b[1;32m   2140\u001b[0m \u001b[0;34m\u001b[0m\u001b[0m\n\u001b[1;32m   2141\u001b[0m     \u001b[0;32mdef\u001b[0m \u001b[0m_getitem_column\u001b[0m\u001b[0;34m(\u001b[0m\u001b[0mself\u001b[0m\u001b[0;34m,\u001b[0m \u001b[0mkey\u001b[0m\u001b[0;34m)\u001b[0m\u001b[0;34m:\u001b[0m\u001b[0;34m\u001b[0m\u001b[0m\n",
      "\u001b[0;32m/Library/Frameworks/Python.framework/Versions/3.6/lib/python3.6/site-packages/pandas/core/frame.py\u001b[0m in \u001b[0;36m_getitem_column\u001b[0;34m(self, key)\u001b[0m\n\u001b[1;32m   2144\u001b[0m         \u001b[0;31m# get column\u001b[0m\u001b[0;34m\u001b[0m\u001b[0;34m\u001b[0m\u001b[0m\n\u001b[1;32m   2145\u001b[0m         \u001b[0;32mif\u001b[0m \u001b[0mself\u001b[0m\u001b[0;34m.\u001b[0m\u001b[0mcolumns\u001b[0m\u001b[0;34m.\u001b[0m\u001b[0mis_unique\u001b[0m\u001b[0;34m:\u001b[0m\u001b[0;34m\u001b[0m\u001b[0m\n\u001b[0;32m-> 2146\u001b[0;31m             \u001b[0;32mreturn\u001b[0m \u001b[0mself\u001b[0m\u001b[0;34m.\u001b[0m\u001b[0m_get_item_cache\u001b[0m\u001b[0;34m(\u001b[0m\u001b[0mkey\u001b[0m\u001b[0;34m)\u001b[0m\u001b[0;34m\u001b[0m\u001b[0m\n\u001b[0m\u001b[1;32m   2147\u001b[0m \u001b[0;34m\u001b[0m\u001b[0m\n\u001b[1;32m   2148\u001b[0m         \u001b[0;31m# duplicate columns & possible reduce dimensionality\u001b[0m\u001b[0;34m\u001b[0m\u001b[0;34m\u001b[0m\u001b[0m\n",
      "\u001b[0;32m/Library/Frameworks/Python.framework/Versions/3.6/lib/python3.6/site-packages/pandas/core/generic.py\u001b[0m in \u001b[0;36m_get_item_cache\u001b[0;34m(self, item)\u001b[0m\n\u001b[1;32m   1840\u001b[0m         \u001b[0mres\u001b[0m \u001b[0;34m=\u001b[0m \u001b[0mcache\u001b[0m\u001b[0;34m.\u001b[0m\u001b[0mget\u001b[0m\u001b[0;34m(\u001b[0m\u001b[0mitem\u001b[0m\u001b[0;34m)\u001b[0m\u001b[0;34m\u001b[0m\u001b[0m\n\u001b[1;32m   1841\u001b[0m         \u001b[0;32mif\u001b[0m \u001b[0mres\u001b[0m \u001b[0;32mis\u001b[0m \u001b[0;32mNone\u001b[0m\u001b[0;34m:\u001b[0m\u001b[0;34m\u001b[0m\u001b[0m\n\u001b[0;32m-> 1842\u001b[0;31m             \u001b[0mvalues\u001b[0m \u001b[0;34m=\u001b[0m \u001b[0mself\u001b[0m\u001b[0;34m.\u001b[0m\u001b[0m_data\u001b[0m\u001b[0;34m.\u001b[0m\u001b[0mget\u001b[0m\u001b[0;34m(\u001b[0m\u001b[0mitem\u001b[0m\u001b[0;34m)\u001b[0m\u001b[0;34m\u001b[0m\u001b[0m\n\u001b[0m\u001b[1;32m   1843\u001b[0m             \u001b[0mres\u001b[0m \u001b[0;34m=\u001b[0m \u001b[0mself\u001b[0m\u001b[0;34m.\u001b[0m\u001b[0m_box_item_values\u001b[0m\u001b[0;34m(\u001b[0m\u001b[0mitem\u001b[0m\u001b[0;34m,\u001b[0m \u001b[0mvalues\u001b[0m\u001b[0;34m)\u001b[0m\u001b[0;34m\u001b[0m\u001b[0m\n\u001b[1;32m   1844\u001b[0m             \u001b[0mcache\u001b[0m\u001b[0;34m[\u001b[0m\u001b[0mitem\u001b[0m\u001b[0;34m]\u001b[0m \u001b[0;34m=\u001b[0m \u001b[0mres\u001b[0m\u001b[0;34m\u001b[0m\u001b[0m\n",
      "\u001b[0;32m/Library/Frameworks/Python.framework/Versions/3.6/lib/python3.6/site-packages/pandas/core/internals.py\u001b[0m in \u001b[0;36mget\u001b[0;34m(self, item, fastpath)\u001b[0m\n\u001b[1;32m   3836\u001b[0m \u001b[0;34m\u001b[0m\u001b[0m\n\u001b[1;32m   3837\u001b[0m             \u001b[0;32mif\u001b[0m \u001b[0;32mnot\u001b[0m \u001b[0misna\u001b[0m\u001b[0;34m(\u001b[0m\u001b[0mitem\u001b[0m\u001b[0;34m)\u001b[0m\u001b[0;34m:\u001b[0m\u001b[0;34m\u001b[0m\u001b[0m\n\u001b[0;32m-> 3838\u001b[0;31m                 \u001b[0mloc\u001b[0m \u001b[0;34m=\u001b[0m \u001b[0mself\u001b[0m\u001b[0;34m.\u001b[0m\u001b[0mitems\u001b[0m\u001b[0;34m.\u001b[0m\u001b[0mget_loc\u001b[0m\u001b[0;34m(\u001b[0m\u001b[0mitem\u001b[0m\u001b[0;34m)\u001b[0m\u001b[0;34m\u001b[0m\u001b[0m\n\u001b[0m\u001b[1;32m   3839\u001b[0m             \u001b[0;32melse\u001b[0m\u001b[0;34m:\u001b[0m\u001b[0;34m\u001b[0m\u001b[0m\n\u001b[1;32m   3840\u001b[0m                 \u001b[0mindexer\u001b[0m \u001b[0;34m=\u001b[0m \u001b[0mnp\u001b[0m\u001b[0;34m.\u001b[0m\u001b[0marange\u001b[0m\u001b[0;34m(\u001b[0m\u001b[0mlen\u001b[0m\u001b[0;34m(\u001b[0m\u001b[0mself\u001b[0m\u001b[0;34m.\u001b[0m\u001b[0mitems\u001b[0m\u001b[0;34m)\u001b[0m\u001b[0;34m)\u001b[0m\u001b[0;34m[\u001b[0m\u001b[0misna\u001b[0m\u001b[0;34m(\u001b[0m\u001b[0mself\u001b[0m\u001b[0;34m.\u001b[0m\u001b[0mitems\u001b[0m\u001b[0;34m)\u001b[0m\u001b[0;34m]\u001b[0m\u001b[0;34m\u001b[0m\u001b[0m\n",
      "\u001b[0;32m/Library/Frameworks/Python.framework/Versions/3.6/lib/python3.6/site-packages/pandas/core/indexes/base.py\u001b[0m in \u001b[0;36mget_loc\u001b[0;34m(self, key, method, tolerance)\u001b[0m\n\u001b[1;32m   2522\u001b[0m                 \u001b[0;32mreturn\u001b[0m \u001b[0mself\u001b[0m\u001b[0;34m.\u001b[0m\u001b[0m_engine\u001b[0m\u001b[0;34m.\u001b[0m\u001b[0mget_loc\u001b[0m\u001b[0;34m(\u001b[0m\u001b[0mkey\u001b[0m\u001b[0;34m)\u001b[0m\u001b[0;34m\u001b[0m\u001b[0m\n\u001b[1;32m   2523\u001b[0m             \u001b[0;32mexcept\u001b[0m \u001b[0mKeyError\u001b[0m\u001b[0;34m:\u001b[0m\u001b[0;34m\u001b[0m\u001b[0m\n\u001b[0;32m-> 2524\u001b[0;31m                 \u001b[0;32mreturn\u001b[0m \u001b[0mself\u001b[0m\u001b[0;34m.\u001b[0m\u001b[0m_engine\u001b[0m\u001b[0;34m.\u001b[0m\u001b[0mget_loc\u001b[0m\u001b[0;34m(\u001b[0m\u001b[0mself\u001b[0m\u001b[0;34m.\u001b[0m\u001b[0m_maybe_cast_indexer\u001b[0m\u001b[0;34m(\u001b[0m\u001b[0mkey\u001b[0m\u001b[0;34m)\u001b[0m\u001b[0;34m)\u001b[0m\u001b[0;34m\u001b[0m\u001b[0m\n\u001b[0m\u001b[1;32m   2525\u001b[0m \u001b[0;34m\u001b[0m\u001b[0m\n\u001b[1;32m   2526\u001b[0m         \u001b[0mindexer\u001b[0m \u001b[0;34m=\u001b[0m \u001b[0mself\u001b[0m\u001b[0;34m.\u001b[0m\u001b[0mget_indexer\u001b[0m\u001b[0;34m(\u001b[0m\u001b[0;34m[\u001b[0m\u001b[0mkey\u001b[0m\u001b[0;34m]\u001b[0m\u001b[0;34m,\u001b[0m \u001b[0mmethod\u001b[0m\u001b[0;34m=\u001b[0m\u001b[0mmethod\u001b[0m\u001b[0;34m,\u001b[0m \u001b[0mtolerance\u001b[0m\u001b[0;34m=\u001b[0m\u001b[0mtolerance\u001b[0m\u001b[0;34m)\u001b[0m\u001b[0;34m\u001b[0m\u001b[0m\n",
      "\u001b[0;32mpandas/_libs/index.pyx\u001b[0m in \u001b[0;36mpandas._libs.index.IndexEngine.get_loc\u001b[0;34m()\u001b[0m\n",
      "\u001b[0;32mpandas/_libs/index.pyx\u001b[0m in \u001b[0;36mpandas._libs.index.IndexEngine.get_loc\u001b[0;34m()\u001b[0m\n",
      "\u001b[0;32mpandas/_libs/hashtable_class_helper.pxi\u001b[0m in \u001b[0;36mpandas._libs.hashtable.PyObjectHashTable.get_item\u001b[0;34m()\u001b[0m\n",
      "\u001b[0;32mpandas/_libs/hashtable_class_helper.pxi\u001b[0m in \u001b[0;36mpandas._libs.hashtable.PyObjectHashTable.get_item\u001b[0;34m()\u001b[0m\n",
      "\u001b[0;31mKeyError\u001b[0m: 'Make'"
     ]
    }
   ],
   "source": [
    "\n",
    "d['Maker_Model']= d['Make']+ \" \" + d['Model']"
   ]
  },
  {
   "cell_type": "code",
   "execution_count": null,
   "metadata": {},
   "outputs": [],
   "source": [
    "# import tensorflow as tf\n",
    "# import tensorflow_hub as hub\n",
    "# import numpy as np\n",
    "# import os, sys\n",
    "# from sklearn.metrics.pairwise import cosine_similarity\n",
    "\n",
    "# # get cosine similairty matrix\n",
    "# def cos_sim(input_vectors):\n",
    "#     similarity = cosine_similarity(input_vectors)\n",
    "#     return similarity\n",
    "\n",
    "# # get topN similar sentences\n",
    "# def get_top_similar(sentence, sentence_list, similarity_matrix, topN):\n",
    "#     # find the index of sentence in list\n",
    "#     index = sentence_list.index(sentence)\n",
    "#     # get the corresponding row in similarity matrix\n",
    "#     similarity_row = np.array(similarity_matrix[index, :])\n",
    "#     # get the indices of top similar\n",
    "#     indices = similarity_row.argsort()[-topN:][::-1]\n",
    "#     return [sentence_list[i] for i in indices]\n",
    "\n",
    "\n",
    "# module_url = \"https://tfhub.dev/google/universal-sentence-encoder/2\" #@param [\"https://tfhub.dev/google/universal-sentence-encoder/2\", \"https://tfhub.dev/google/universal-sentence-encoder-large/3\"]\n",
    "\n",
    "# # Import the Universal Sentence Encoder's TF Hub module\n",
    "# embed = hub.load(module_url)\n",
    "\n",
    "# # Reduce logging output.\n",
    "# tf.logging.set_verbosity(tf.logging.ERROR)\n",
    "\n",
    "# sentences_list = [\n",
    "#     # phone related\n",
    "#     'My phone is slow',\n",
    "#     'My phone is not good',\n",
    "#     'I need to change my phone. It does not work well',\n",
    "#     'How is your phone?',\n",
    "\n",
    "#     # age related\n",
    "#     'What is your age?',\n",
    "#     'How old are you?',\n",
    "#     'I am 10 years old',\n",
    "\n",
    "#     # weather related\n",
    "#     'It is raining today',\n",
    "#     'Would it be sunny tomorrow?',\n",
    "#     'The summers are here.'\n",
    "# ]\n",
    "\n",
    "# with tf.Session() as session:\n",
    "\n",
    "#   session.run([tf.global_variables_initializer(), tf.tables_initializer()])\n",
    "#   sentences_embeddings = session.run(embed(sentences_list))\n",
    "\n",
    "# similarity_matrix = cos_sim(np.array(sentences_embeddings))\n",
    "\n",
    "# sentence = \"It is raining today\"\n",
    "# top_similar = get_top_similar(sentence, sentences_list, similarity_matrix, 3)\n",
    "\n",
    "# # printing the list using loop \n",
    "# for x in range(len(top_similar)): \n",
    "#     print(top_similar[x])"
   ]
  },
  {
   "cell_type": "code",
   "execution_count": null,
   "metadata": {},
   "outputs": [],
   "source": []
  },
  {
   "cell_type": "code",
   "execution_count": 2,
   "metadata": {},
   "outputs": [
    {
     "name": "stderr",
     "output_type": "stream",
     "text": [
      "/Library/Frameworks/Python.framework/Versions/3.6/lib/python3.6/site-packages/gensim/similarities/__init__.py:15: UserWarning: The gensim.similarities.levenshtein submodule is disabled, because the optional Levenshtein package <https://pypi.org/project/python-Levenshtein/> is unavailable. Install Levenhstein (e.g. `pip install python-Levenshtein`) to suppress this warning.\n",
      "  warnings.warn(msg)\n"
     ]
    }
   ],
   "source": [
    "import gensim.downloader as api\n",
    "wv = api.load('word2vec-google-news-300')"
   ]
  },
  {
   "cell_type": "code",
   "execution_count": 2,
   "metadata": {},
   "outputs": [
    {
     "name": "stdout",
     "output_type": "stream",
     "text": [
      "word #0/3000000 is </s>\n",
      "word #1/3000000 is in\n",
      "word #2/3000000 is for\n",
      "word #3/3000000 is that\n",
      "word #4/3000000 is is\n",
      "word #5/3000000 is on\n",
      "word #6/3000000 is ##\n",
      "word #7/3000000 is The\n",
      "word #8/3000000 is with\n",
      "word #9/3000000 is said\n"
     ]
    }
   ],
   "source": [
    "for index, word in enumerate(wv.index_to_key):\n",
    "    if index == 10:\n",
    "        break\n",
    "    print(f\"word #{index}/{len(wv.index_to_key)} is {word}\")"
   ]
  },
  {
   "cell_type": "code",
   "execution_count": 4,
   "metadata": {},
   "outputs": [
    {
     "name": "stdout",
     "output_type": "stream",
     "text": [
      "'waving'\t'waving'\t1.00\n",
      "'car'\t'bicycle'\t0.54\n",
      "'car'\t'airplane'\t0.42\n",
      "'car'\t'cereal'\t0.14\n",
      "'car'\t'communism'\t0.06\n"
     ]
    }
   ],
   "source": [
    "pairs = [\n",
    "    ('waving', 'waving'),   # a minivan is a kind of car\n",
    "    ('car', 'bicycle'),   # still a wheeled vehicle\n",
    "    ('car', 'airplane'),  # ok, no wheels, but still a vehicle\n",
    "    ('car', 'cereal'),    # ... and so on\n",
    "    ('car', 'communism'),\n",
    "]\n",
    "for w1, w2 in pairs:\n",
    "    print('%r\\t%r\\t%.2f' % (w1, w2, wv.similarity(w1, w2)))"
   ]
  },
  {
   "cell_type": "code",
   "execution_count": 56,
   "metadata": {},
   "outputs": [],
   "source": [
    "data_1 = clean_data(d_1)\n",
    "data_2 = clean_data(d_2)\n",
    "data_3 = clean_data(d_3)\n",
    "data_4 = clean_data(d_4)\n",
    "data_5 = clean_data(d_5)\n",
    "data_6 = clean_data(d_6)\n",
    "data_7 = clean_data(d_7)\n",
    "data_8 = clean_data(d_8)\n",
    "\n",
    "mime_1 = clean_data(m_1)\n",
    "mime_2 = clean_data(m_2)\n",
    "mime_3 = clean_data(m_3)\n",
    "mime_4 = clean_data(m_4)\n",
    "mime_5 = clean_data(m_5)\n",
    "mime_6 = clean_data(m_6)\n",
    "mime_7 = clean_data(m_7)\n",
    "mime_8 = clean_data(m_8)\n",
    "\n",
    "ai_1 = clean_data(a_1)\n",
    "ai_2 = clean_data(a_2)\n",
    "ai_3 = clean_data(a_3)\n",
    "ai_4 = clean_data(a_4)\n",
    "ai_5 = clean_data(a_5)\n",
    "ai_6 = clean_data(a_6)\n",
    "ai_7 = clean_data(a_7)\n",
    "ai_8 = clean_data(a_8)"
   ]
  },
  {
   "cell_type": "code",
   "execution_count": 72,
   "metadata": {},
   "outputs": [
    {
     "name": "stdout",
     "output_type": "stream",
     "text": [
      "[['saying', 'hi', 'wave'], ['waving', 'greeting', 'goodbye'], ['waving'], ['waving'], ['waving', 'hello'], ['waving', 'someone'], ['waving'], ['pointing', 'towards', 'something'], ['waving', 'greeting'], ['waving'], ['waving'], ['waving'], ['waving'], ['waving']]\n"
     ]
    }
   ],
   "source": [
    "print(ai_1)"
   ]
  },
  {
   "cell_type": "code",
   "execution_count": 9,
   "metadata": {},
   "outputs": [
    {
     "data": {
      "text/plain": [
       "0.2687505"
      ]
     },
     "execution_count": 9,
     "metadata": {},
     "output_type": "execute_result"
    }
   ],
   "source": [
    "wv.similarity('waving', 'wave')"
   ]
  },
  {
   "cell_type": "code",
   "execution_count": 10,
   "metadata": {},
   "outputs": [],
   "source": [
    "def compare_similarity(data, intended_beh):\n",
    "    lst = []\n",
    "    for answer in data:\n",
    "        similarities = []\n",
    "        for word in answer:\n",
    "            distance = wv.similarity(intended_beh, word)\n",
    "            similarities.append(distance)\n",
    "        lst.append(similarities)\n",
    "    return lst"
   ]
  },
  {
   "cell_type": "code",
   "execution_count": 11,
   "metadata": {},
   "outputs": [
    {
     "name": "stdout",
     "output_type": "stream",
     "text": [
      "[['disappointment'], ['could', 'slow', 'nod', 'hanging', 'head', 'indicate', 'feeling'], ['looking', 'feet'], ['seemed', 'disappointed'], ['looked', 'unsure', 'unhappy'], ['thankful'], ['sad'], ['lowering', 'head'], ['shy'], ['shame'], ['looking', 'realizing', 'shoelace', 'untied', 'something'], ['feeling', 'sad', 'helpless'], ['feeling', 'shy'], ['ashamed']] 2\n",
      "[['partying', 'classic', 'disco', 'move'], ['dancing'], ['grooving', 'boogie'], ['dancing'], ['dancing'], ['dancing', 'feeling', 'cheerful'], ['enthusiastically', 'dancing'], ['dancing'], ['dancing', 'happy'], ['dancing'], ['stayin', 'alive'], ['dancing'], ['dancing'], ['think', 'dancing']] 3\n",
      "[['looking', 'around', 'trying', 'act', 'suspicious'], ['looking', 'around'], ['looking', 'around'], ['seems', 'startled', 'confused'], ['looking', 'around'], ['sees', 'something', 'see', 'looks', 'way', 'peeks'], ['following', 'something', 'head'], ['looking', 'around'], ['tense', 'scared'], ['looking', 'around'], ['looking', 'around'], ['looking', 'something'], ['uncertain', 'something'], ['observing']] 4\n",
      "[['pointing', 'something'], ['dabbing'], ['dabbing', 'haters'], ['tries', 'shield', 'dabbing'], ['dab', 'think', 'dabbed'], ['scared', 'something'], ['protecting', 'something'], ['shielding'], ['shielding', 'something'], ['shielding'], ['dab'], ['raising', 'arm', 'defense'], ['shielding', 'something', 'scared', 'fearful'], ['looked', 'like', 'distressed', 'scared']] 5\n",
      "[['imitating', 'monkey'], ['scratching', 'head', 'thinking', 'something'], ['stretching'], ['confused'], ['scratching', 'head'], ['clue', 'based', 'first', 'tying', 'think', 'something'], ['question'], ['know'], ['thinking'], ['thinking'], ['armpit', 'thing', 'idk', 'stretching'], ['asking', 'attention'], ['scratching', 'head', 'thinking'], ['scratching', 'head']] 6\n",
      "[['grab', 'something', 'front'], ['grabbing', 'something'], ['grabbing', 'something'], ['reaching', 'something'], ['trying', 'shake', 'hand'], ['trying', 'find', 'something', 'finding', 'trying', 'grab'], ['nervous'], ['choosing'], ['something'], ['reaching'], ['pull', 'communicates', 'surprise', 'distracting'], ['holding', 'hand', 'greeting'], ['unsure', 'something', 'trying', 'move', 'something'], ['think', 'pointing', 'something', 'checking', 'person', 'understood', 'nodding']] 7\n",
      "[['apes', 'together', 'strong', 'planet', 'apes'], ['scratching', 'head', 'thinking', 'something', 'eureka', 'moment'], ['showing', 'affection'], ['thinking', 'something'], ['either', 'raising', 'hand', 'catching', 'something'], ['trying', 'answer', 'thinking', 'yes', 'know', 'answer'], ['timer', 'reached'], ['thinking', 'understanding'], ['thinking', 'agreeing'], ['catching', 'something'], ['smell', 'armpit', 'feel', 'sorry'], ['asking', 'help'], ['trying', 'get', 'attention'], ['really', 'know', 'sort', 'looked', 'like', 'giving', 'finger']] 8\n"
     ]
    }
   ],
   "source": [
    "\n",
    "print(ai_2, '2')\n",
    "print(ai_3, '3')\n",
    "print(ai_4, '4')\n",
    "print(ai_5, '5')\n",
    "print(ai_6, '6')\n",
    "print(ai_7, '7')\n",
    "print(ai_8, '8')\n",
    "\n",
    "\n",
    "\n",
    "ai_d_1 = compare_similarity(ai_1, 'waving')\n",
    "ai_d_2 = compare_similarity(ai_2, 'sad')\n",
    "ai_d_3 = compare_similarity(ai_3, 'dancing')\n",
    "ai_d_4 = compare_similarity(ai_4, 'looking')\n",
    "ai_d_5 = compare_similarity(ai_5, 'afraid')\n",
    "ai_d_6 = compare_similarity(ai_6, 'thinking')\n",
    "ai_d_7 = compare_similarity(ai_7, 'pointing')\n",
    "ai_d_8 = compare_similarity(ai_8, 'realizing')\n",
    "\n"
   ]
  },
  {
   "cell_type": "code",
   "execution_count": 189,
   "metadata": {},
   "outputs": [
    {
     "name": "stdout",
     "output_type": "stream",
     "text": [
      "([['saying', 'hi', 'wave'], ['waving', 'greeting', 'goodbye'], ['waving'], ['waving'], ['waving', 'hello'], ['waving', 'someone'], ['waving'], ['pointing', 'towards', 'something'], ['waving', 'greeting'], ['waving'], ['waving'], ['waving'], ['waving'], ['waving']], [[0.23092149, 0.19403835, 0.2687505], [1.0, 0.4388664, 0.21717496], [1.0], [1.0], [1.0, 0.33533445], [1.0, 0.104635775], [1.0], [0.42490113, 0.14926055, 0.13792531], [1.0, 0.4388664], [1.0], [1.0], [1.0], [1.0], [1.0]]) ([['disappointment'], ['could', 'slow', 'nod', 'hanging', 'head', 'indicate', 'feeling'], ['looking', 'feet'], ['seemed', 'disappointed'], ['looked', 'unsure', 'unhappy'], ['thankful'], ['sad'], ['lowering', 'head'], ['shy'], ['shame'], ['looking', 'realizing', 'shoelace', 'untied', 'something'], ['feeling', 'sad', 'helpless'], ['feeling', 'shy'], ['ashamed']], [[0.3642774], [0.15048082, 0.18533595, 0.012884369, 0.22826885, 0.07136894, 0.043471694, 0.371798], [0.22957195, -0.01801021], [0.19636787, 0.52453864], [0.19207813, 0.1806443, 0.41572243], [0.47363105], [1.0], [-0.05240551, 0.07136894], [0.17939915], [0.5615138], [0.22957195, 0.17435338, 0.10573749, 0.12280229, 0.33841303], [0.371798, 1.0, 0.32526416], [0.371798, 0.17939915], [0.48005152]]) ([['partying', 'classic', 'disco', 'move'], ['dancing'], ['grooving', 'boogie'], ['dancing'], ['dancing'], ['dancing', 'feeling', 'cheerful'], ['enthusiastically', 'dancing'], ['dancing'], ['dancing', 'happy'], ['dancing'], ['stayin', 'alive'], ['dancing'], ['dancing'], ['think', 'dancing']], [[0.36282852, 0.1668573, 0.5472135, 0.12487434], [1.0], [0.4962421, 0.4202934], [1.0], [1.0], [1.0, 0.14032385, 0.15042593], [0.16780688, 1.0], [1.0], [1.0, 0.17744133], [1.0], [0.25101206, 0.13861601], [1.0], [1.0], [0.15337834, 1.0]]) ([['looking', 'around', 'trying', 'act', 'suspicious'], ['looking', 'around'], ['looking', 'around'], ['seems', 'startled', 'confused'], ['looking', 'around'], ['sees', 'something', 'see', 'looks', 'way', 'peeks'], ['following', 'something', 'head'], ['looking', 'around'], ['tense', 'scared'], ['looking', 'around'], ['looking', 'around'], ['looking', 'something'], ['uncertain', 'something'], ['observing']], [[1.0, 0.13615337, 0.5487003, 0.087797634, 0.18086699], [1.0, 0.13615337], [1.0, 0.13615337], [0.22390333, 0.20116496, 0.24381873], [1.0, 0.13615337], [0.3135822, 0.26812488, 0.35910085, 0.50919497, 0.21358697, 0.21250083], [0.1255437, 0.26812488, 0.12390951], [1.0, 0.13615337], [0.09048863, 0.29444438], [1.0, 0.13615337], [1.0, 0.13615337], [1.0, 0.26812488], [0.284423, 0.26812488], [0.19862387]]) ([['pointing', 'something'], ['dabbing'], ['dabbing', 'haters'], ['tries', 'shield', 'dabbing'], ['dab', 'think', 'dabbed'], ['scared', 'something'], ['protecting', 'something'], ['shielding'], ['shielding', 'something'], ['shielding'], ['dab'], ['raising', 'arm', 'defense'], ['shielding', 'something', 'scared', 'fearful'], ['looked', 'like', 'distressed', 'scared']], [[0.17712626, 0.34073532], [0.0886854], [0.0886854, 0.20724222], [0.15175255, 0.143891, 0.0886854], [0.08696069, 0.46020803, 0.040676504], [0.79466367, 0.34073532], [0.16181014, 0.34073532], [0.14860956], [0.14860956, 0.34073532], [0.14860956], [0.08696069], [0.08476745, 0.06255599, 0.08450824], [0.14860956, 0.34073532, 0.79466367, 0.69924116], [0.13409328, 0.38587266, 0.23923242, 0.79466367]]) ([['imitating', 'monkey'], ['scratching', 'head', 'thinking', 'something'], ['stretching'], ['confused'], ['scratching', 'head'], ['clue', 'based', 'first', 'tying', 'think', 'something'], ['question'], ['know'], ['thinking'], ['thinking'], ['armpit', 'thing', 'idk', 'stretching'], ['asking', 'attention'], ['scratching', 'head', 'thinking'], ['scratching', 'head']], [[0.29451814, 0.15349425], [0.3424771, 0.07379476, 1.0, 0.4728136], [0.20354113], [0.38055557], [0.3424771, 0.07379476], [0.3147139, 0.008521522, 0.108795114, 0.18078107, 0.61104006, 0.4728136], [0.31420255], [0.47800428], [1.0], [1.0], [0.061083637, 0.4372217, 0.21707757, 0.20354113], [0.36458313, 0.19147818], [0.3424771, 0.07379476, 1.0], [0.3424771, 0.07379476]]) ([['grab', 'something', 'front'], ['grabbing', 'something'], ['grabbing', 'something'], ['reaching', 'something'], ['trying', 'shake', 'hand'], ['trying', 'find', 'something', 'finding', 'trying', 'grab'], ['nervous'], ['choosing'], ['something'], ['reaching'], ['pull', 'communicates', 'surprise', 'distracting'], ['holding', 'hand', 'greeting'], ['unsure', 'something', 'trying', 'move', 'something'], ['think', 'pointing', 'something', 'checking', 'person', 'understood', 'nodding']], [[0.13675418, 0.10985067, 0.17997882], [0.2274013, 0.10985067], [0.2274013, 0.10985067], [0.2580994, 0.10985067], [0.1889489, 0.14727895, 0.21502283], [0.1889489, 0.21332194, 0.10985067, 0.29919535, 0.1889489, 0.13675418], [0.057034936], [0.12214953], [0.10985067], [0.2580994], [0.27236527, 0.14442417, 0.035327267, 0.1539007], [0.2638182, 0.21502283, 0.16681047], [0.13994318, 0.10985067, 0.1889489, 0.17117624, 0.10985067], [0.22488858, 0.99999994, 0.10985067, 0.28033966, -0.0019864312, 0.156793, 0.31987023]]) ([['apes', 'together', 'strong', 'planet', 'apes'], ['scratching', 'head', 'thinking', 'something', 'eureka', 'moment'], ['showing', 'affection'], ['thinking', 'something'], ['either', 'raising', 'hand', 'catching', 'something'], ['trying', 'answer', 'thinking', 'yes', 'know', 'answer'], ['timer', 'reached'], ['thinking', 'understanding'], ['thinking', 'agreeing'], ['catching', 'something'], ['smell', 'armpit', 'feel', 'sorry'], ['asking', 'help'], ['trying', 'get', 'attention'], ['really', 'know', 'sort', 'looked', 'like', 'giving', 'finger']], [[0.08373236, 0.21862353, 0.004390734, 0.15393305, 0.08373236], [0.13494287, 0.060664058, 0.48543537, 0.24918859, 0.26411942, 0.24276145], [0.24869138, 0.06458339], [0.48543537, 0.24918859], [0.106693186, 0.19458479, 0.04899786, 0.33120725, 0.24918859], [0.18327871, -0.0036329422, 0.48543537, 0.09978255, 0.30810937, -0.0036329422], [0.040016677, 0.09034679], [0.48543537, 0.38474268], [0.48543537, 0.2725933], [0.33120725, 0.24918859], [0.049967136, 0.062025405, 0.29051742, 0.16962563], [0.20989469, 0.08810461], [0.18327871, 0.2504778, 0.16228522], [0.27363715, 0.30810937, 0.14825869, 0.1913532, 0.17894275, 0.29684862, 0.022043623]])\n"
     ]
    }
   ],
   "source": [
    "# print(ai_d_1, ai_d_2, ai_d_3, ai_d_4, ai_d_5)\n"
   ]
  },
  {
   "cell_type": "code",
   "execution_count": 46,
   "metadata": {},
   "outputs": [
    {
     "name": "stdout",
     "output_type": "stream",
     "text": [
      "[([['saying', 'hi', 'wave'], ['waving', 'greeting', 'goodbye'], ['waving'], ['waving'], ['waving', 'hello'], ['waving', 'someone'], ['waving'], ['pointing', 'towards', 'something'], ['waving', 'greeting'], ['waving'], ['waving'], ['waving'], ['waving'], ['waving']], [[0.23092149, 0.19403835, 0.2687505], [1.0, 0.4388664, 0.21717496], [1.0], [1.0], [1.0, 0.33533445], [1.0, 0.104635775], [1.0], [0.42490113, 0.14926055, 0.13792531], [1.0, 0.4388664], [1.0], [1.0], [1.0], [1.0], [1.0]]), ([['disappointment'], ['could', 'slow', 'nod', 'hanging', 'head', 'indicate', 'feeling'], ['looking', 'feet'], ['seemed', 'disappointed'], ['looked', 'unsure', 'unhappy'], ['thankful'], ['sad'], ['lowering', 'head'], ['shy'], ['shame'], ['looking', 'realizing', 'shoelace', 'untied', 'something'], ['feeling', 'sad', 'helpless'], ['feeling', 'shy'], ['ashamed']], [[0.3642774], [0.15048082, 0.18533595, 0.012884369, 0.22826885, 0.07136894, 0.043471694, 0.371798], [0.22957195, -0.01801021], [0.19636787, 0.52453864], [0.19207813, 0.1806443, 0.41572243], [0.47363105], [1.0], [-0.05240551, 0.07136894], [0.17939915], [0.5615138], [0.22957195, 0.17435338, 0.10573749, 0.12280229, 0.33841303], [0.371798, 1.0, 0.32526416], [0.371798, 0.17939915], [0.48005152]]), ([['partying', 'classic', 'disco', 'move'], ['dancing'], ['grooving', 'boogie'], ['dancing'], ['dancing'], ['dancing', 'feeling', 'cheerful'], ['enthusiastically', 'dancing'], ['dancing'], ['dancing', 'happy'], ['dancing'], ['stayin', 'alive'], ['dancing'], ['dancing'], ['think', 'dancing']], [[0.36282852, 0.1668573, 0.5472135, 0.12487434], [1.0], [0.4962421, 0.4202934], [1.0], [1.0], [1.0, 0.14032385, 0.15042593], [0.16780688, 1.0], [1.0], [1.0, 0.17744133], [1.0], [0.25101206, 0.13861601], [1.0], [1.0], [0.15337834, 1.0]]), ([['looking', 'around', 'trying', 'act', 'suspicious'], ['looking', 'around'], ['looking', 'around'], ['seems', 'startled', 'confused'], ['looking', 'around'], ['sees', 'something', 'see', 'looks', 'way', 'peeks'], ['following', 'something', 'head'], ['looking', 'around'], ['tense', 'scared'], ['looking', 'around'], ['looking', 'around'], ['looking', 'something'], ['uncertain', 'something'], ['observing']], [[1.0, 0.13615337, 0.5487003, 0.087797634, 0.18086699], [1.0, 0.13615337], [1.0, 0.13615337], [0.22390333, 0.20116496, 0.24381873], [1.0, 0.13615337], [0.3135822, 0.26812488, 0.35910085, 0.50919497, 0.21358697, 0.21250083], [0.1255437, 0.26812488, 0.12390951], [1.0, 0.13615337], [0.09048863, 0.29444438], [1.0, 0.13615337], [1.0, 0.13615337], [1.0, 0.26812488], [0.284423, 0.26812488], [0.19862387]]), ([['pointing', 'something'], ['dabbing'], ['dabbing', 'haters'], ['tries', 'shield', 'dabbing'], ['dab', 'think', 'dabbed'], ['scared', 'something'], ['protecting', 'something'], ['shielding'], ['shielding', 'something'], ['shielding'], ['dab'], ['raising', 'arm', 'defense'], ['shielding', 'something', 'scared', 'fearful'], ['looked', 'like', 'distressed', 'scared']], [[0.17712626, 0.34073532], [0.0886854], [0.0886854, 0.20724222], [0.15175255, 0.143891, 0.0886854], [0.08696069, 0.46020803, 0.040676504], [0.79466367, 0.34073532], [0.16181014, 0.34073532], [0.14860956], [0.14860956, 0.34073532], [0.14860956], [0.08696069], [0.08476745, 0.06255599, 0.08450824], [0.14860956, 0.34073532, 0.79466367, 0.69924116], [0.13409328, 0.38587266, 0.23923242, 0.79466367]]), ([['imitating', 'monkey'], ['scratching', 'head', 'thinking', 'something'], ['stretching'], ['confused'], ['scratching', 'head'], ['clue', 'based', 'first', 'tying', 'think', 'something'], ['question'], ['know'], ['thinking'], ['thinking'], ['armpit', 'thing', 'idk', 'stretching'], ['asking', 'attention'], ['scratching', 'head', 'thinking'], ['scratching', 'head']], [[0.29451814, 0.15349425], [0.3424771, 0.07379476, 1.0, 0.4728136], [0.20354113], [0.38055557], [0.3424771, 0.07379476], [0.3147139, 0.008521522, 0.108795114, 0.18078107, 0.61104006, 0.4728136], [0.31420255], [0.47800428], [1.0], [1.0], [0.061083637, 0.4372217, 0.21707757, 0.20354113], [0.36458313, 0.19147818], [0.3424771, 0.07379476, 1.0], [0.3424771, 0.07379476]]), ([['grab', 'something', 'front'], ['grabbing', 'something'], ['grabbing', 'something'], ['reaching', 'something'], ['trying', 'shake', 'hand'], ['trying', 'find', 'something', 'finding', 'trying', 'grab'], ['nervous'], ['choosing'], ['something'], ['reaching'], ['pull', 'communicates', 'surprise', 'distracting'], ['holding', 'hand', 'greeting'], ['unsure', 'something', 'trying', 'move', 'something'], ['think', 'pointing', 'something', 'checking', 'person', 'understood', 'nodding']], [[0.13675418, 0.10985067, 0.17997882], [0.2274013, 0.10985067], [0.2274013, 0.10985067], [0.2580994, 0.10985067], [0.1889489, 0.14727895, 0.21502283], [0.1889489, 0.21332194, 0.10985067, 0.29919535, 0.1889489, 0.13675418], [0.057034936], [0.12214953], [0.10985067], [0.2580994], [0.27236527, 0.14442417, 0.035327267, 0.1539007], [0.2638182, 0.21502283, 0.16681047], [0.13994318, 0.10985067, 0.1889489, 0.17117624, 0.10985067], [0.22488858, 0.99999994, 0.10985067, 0.28033966, -0.0019864312, 0.156793, 0.31987023]]), ([['apes', 'together', 'strong', 'planet', 'apes'], ['scratching', 'head', 'thinking', 'something', 'eureka', 'moment'], ['showing', 'affection'], ['thinking', 'something'], ['either', 'raising', 'hand', 'catching', 'something'], ['trying', 'answer', 'thinking', 'yes', 'know', 'answer'], ['timer', 'reached'], ['thinking', 'understanding'], ['thinking', 'agreeing'], ['catching', 'something'], ['smell', 'armpit', 'feel', 'sorry'], ['asking', 'help'], ['trying', 'get', 'attention'], ['really', 'know', 'sort', 'looked', 'like', 'giving', 'finger']], [[0.08373236, 0.21862353, 0.004390734, 0.15393305, 0.08373236], [0.13494287, 0.060664058, 0.48543537, 0.24918859, 0.26411942, 0.24276145], [0.24869138, 0.06458339], [0.48543537, 0.24918859], [0.106693186, 0.19458479, 0.04899786, 0.33120725, 0.24918859], [0.18327871, -0.0036329422, 0.48543537, 0.09978255, 0.30810937, -0.0036329422], [0.040016677, 0.09034679], [0.48543537, 0.38474268], [0.48543537, 0.2725933], [0.33120725, 0.24918859], [0.049967136, 0.062025405, 0.29051742, 0.16962563], [0.20989469, 0.08810461], [0.18327871, 0.2504778, 0.16228522], [0.27363715, 0.30810937, 0.14825869, 0.1913532, 0.17894275, 0.29684862, 0.022043623]])]\n"
     ]
    }
   ],
   "source": [
    "ai1 = (ai_1,ai_d_1)\n",
    "ai2 = (ai_2,ai_d_2)\n",
    "ai3 = (ai_3,ai_d_3)\n",
    "ai4 = (ai_4,ai_d_4)\n",
    "ai5 = (ai_5,ai_d_5)\n",
    "ai6 = (ai_6,ai_d_6)\n",
    "ai7 = (ai_7,ai_d_7)\n",
    "ai8 = (ai_8,ai_d_8)\n",
    "\n",
    "print([ai1, ai2,ai3,ai4,ai5,ai6,ai7,ai8])"
   ]
  },
  {
   "cell_type": "code",
   "execution_count": 57,
   "metadata": {},
   "outputs": [
    {
     "name": "stdout",
     "output_type": "stream",
     "text": [
      "[['wanting', 'fight'], ['looks', 'embarrassed'], ['got', 'scared'], ['sneezing'], ['hiding'], ['pointing', 'something'], ['dabbing'], ['dabbing', 'haters'], ['tries', 'shield', 'dabbing'], ['dab', 'think', 'dabbed'], ['protecting'], ['scared', 'something'], ['edge', 'hiding', 'attack'], ['protecting', 'something'], ['got', 'scared', 'something'], ['shielding'], ['shielding', 'something'], ['wary', 'something', 'protecting'], ['sneezing'], ['get', 'fright', 'see'], ['protecting'], ['think', 'suddenly', 'scared', 'something'], ['ready', 'fight'], [''], ['think', 'wants', 'show', 'shy'], ['shielding'], ['dab'], ['raising', 'arm', 'defense'], ['shielding', 'something', 'scared', 'fearful'], ['looked', 'like', 'distressed', 'scared']]\n",
      "[['wanting', 'fight'], ['looks', 'embarrassed'], ['got', 'scared'], ['sneezing'], ['hiding'], ['pointing', 'something'], ['dabbing'], ['dabbing', 'haters'], ['tries', 'shield', 'dabbing'], ['dab', 'think', 'dabbed'], ['protecting'], ['scared', 'something'], ['edge', 'hiding', 'attack'], ['protecting', 'something'], ['got', 'scared', 'something'], ['shielding'], ['shielding', 'something'], ['wary', 'something', 'protecting'], ['sneezing'], ['get', 'fright', 'see'], ['protecting'], ['think', 'suddenly', 'scared', 'something'], ['ready', 'fight'], ['protection', 'something'], ['think', 'wants', 'show', 'shy'], ['shielding'], ['dab'], ['raising', 'arm', 'defense'], ['shielding', 'something', 'scared', 'fearful'], ['looked', 'like', 'distressed', 'scared']]\n",
      "['']\n",
      "['protection', 'something']\n"
     ]
    }
   ],
   "source": [
    "print(data_5)\n",
    "\n",
    "data_5[23] = ['protection', 'something']\n",
    "print(data_5)\n",
    "# print(data_5)\n",
    "# print(mime_5)\n",
    "# print(len(mime_5))\n",
    "print(mime_5[14])\n",
    "mime_5[14] = ['protection', 'something']\n",
    "print(mime_5[14])"
   ]
  },
  {
   "cell_type": "code",
   "execution_count": 58,
   "metadata": {},
   "outputs": [],
   "source": [
    "d_d_1 = compare_similarity(data_1, 'waving')\n",
    "d_d_2 = compare_similarity(data_2, 'sad')\n",
    "d_d_3 = compare_similarity(data_3, 'dancing')\n",
    "d_d_4 = compare_similarity(data_4, 'looking')\n",
    "d_d_5 = compare_similarity(data_5, 'afraid')\n",
    "d_d_6 = compare_similarity(data_6, 'thinking')\n",
    "d_d_7 = compare_similarity(data_7, 'pointing')\n",
    "d_d_8 = compare_similarity(data_8, 'realizing')\n",
    "\n",
    "mime_d_1 = compare_similarity(mime_1, 'waving')\n",
    "mime_d_2 = compare_similarity(mime_2, 'sad')\n",
    "mime_d_3 = compare_similarity(mime_3, 'dancing')\n",
    "mime_d_4 = compare_similarity(mime_4, 'looking')\n",
    "mime_d_5 = compare_similarity(mime_5, 'afraid')\n",
    "mime_d_6 = compare_similarity(mime_6, 'thinking')\n",
    "mime_d_7 = compare_similarity(mime_7, 'pointing')\n",
    "mime_d_8 = compare_similarity(mime_8, 'realizing')\n"
   ]
  },
  {
   "cell_type": "code",
   "execution_count": 59,
   "metadata": {},
   "outputs": [
    {
     "name": "stdout",
     "output_type": "stream",
     "text": [
      "[([['waving', 'hi', 'bye'], ['think', 'greeting'], ['saying', 'waving', 'hand'], ['waving', 'hello'], ['think', 'waving', 'get', 'attention'], ['waving'], ['waving', 'goodbye'], ['waving'], ['trying', 'attract', 'attention', 'say', 'hi', 'case', 'creepy', 'three', 'fingered', 'wave'], ['waving', 'goodbye'], ['waving'], ['waving'], ['waving'], ['saying', 'goodbye'], ['waving'], ['waving', 'order', 'somehting', 'like', 'restaurant']], [[1.0, 0.19403835, 0.05614375], [0.12867108, 0.4388664], [0.23092149, 1.0, 0.30938086], [1.0, 0.33533445], [0.12867108, 1.0, 0.15627067, 0.10094433], [1.0], [1.0, 0.21717496], [1.0], [0.17556827, 0.100959666, 0.10094433, 0.15305138, 0.19403835, 0.013318387, 0.11672358, 0.05654263, 0.23365709, 0.2687505], [1.0, 0.21717496], [1.0], [1.0], [1.0], [0.23092149, 0.21717496], [1.0], [1.0, -0.013417159, 0.0721511, 0.18884309, 0.051330015]]), ([['lost', 'courage'], ['seems', 'disappointed'], ['rot', 'felt', 'sorry'], ['communicating', 'thank'], ['mad'], ['feeling', 'guilty', 'sorry'], ['guilty', 'apologetic'], ['got', 'sad', 'felt', 'bad'], ['disappointed', 'feeling', 'sorry', 'something'], ['sad'], ['bow', 'head', 'salute'], ['felt', 'remorse'], ['greeting', 'submissively'], ['feeling', 'guilty'], ['bird', 'dropping', 'dead', 'front'], ['think', 'thats', 'good', 'idea', 'sure', 'join', 'quite', 'sure']], [[0.1992348, 0.21449918], [0.29294187, 0.52453864], [0.21544483, 0.31117234, 0.6194047], [0.025886342, 0.24280098], [0.36566046], [0.371798, 0.20040327, 0.6194047], [0.20040327, 0.3517855], [0.1585772, 1.0, 0.31117234, 0.42367142], [0.52453864, 0.371798, 0.6194047, 0.33841303], [1.0], [0.100526966, 0.07136894, 0.20427631], [0.31117234, 0.23146631], [0.12295767, 0.12723719], [0.371798, 0.20040327], [0.09460211, 0.09612289, 0.17766327, 0.034936253], [0.34145874, 0.23317462, 0.3602742, 0.10348253, 0.23957305, 0.07879453, 0.28481072, 0.23957305]]), ([['dancing'], ['dancing'], ['dancing'], ['dancing'], ['dancing'], ['dancing', 'boogie'], ['dancing'], ['dancing', 'travolta'], ['kind', 'saturday', 'night', 'fever', 'move'], ['dance', 'disco', 'boogie'], ['disco', 'dancing'], ['dance'], ['think', 'demonstrating', 'pull', 'something', 'genitals'], ['dancing'], ['disco', 'dancing'], ['haha', 'yes', 'wanna', 'dance']], [[1.0], [1.0], [1.0], [1.0], [1.0], [1.0, 0.4202934], [1.0], [1.0, 0.2002488], [0.104050756, 0.08652511, 0.21689135, 0.051316593, 0.12487434], [0.8380803, 0.5472135, 0.4202934], [0.5472135, 1.0], [0.8380803], [0.15337834, 0.1309087, 0.046278626, 0.17152599, 0.2109957], [1.0], [0.5472135, 1.0], [0.23597479, 0.15114836, 0.23333158, 0.8380803]]), ([['looking', 'around'], ['searching', 'something'], ['confused', 'surprised'], ['observing'], ['think', 'checking', 'surroundings'], ['looking', 'around'], ['suspicious'], ['looking', 'bird', 'landing', 'ground'], ['noticing', 'something', 'air', 'finally', 'lands', 'ground', 'losing', 'interest'], ['following', 'fly'], ['makes', 'shy'], ['curious'], ['feel', 'like', 'bit', 'surprised', 'sees'], ['questions', 'know', 'moment'], ['realizing'], ['observing', 'surroundings']], [[1.0, 0.13615337], [0.59240395, 0.26812488], [0.24381873, 0.24947044], [0.19862387], [0.38910553, 0.32654244, 0.11542408], [1.0, 0.13615337], [0.18086699], [1.0, 0.08445776, 0.12391867, 0.06945666], [0.30980796, 0.26812488, 0.054535843, 0.118490696, 0.041628648, 0.06945666, 0.17768858, 0.10955415], [0.1255437, 0.0420132], [0.19029419, 0.13665515], [0.3295096], [0.35044977, 0.32101074, 0.24447684, 0.24947044, 0.3135822], [0.11783688, 0.31050476, 0.22970653], [0.28351268], [0.19862387, 0.11542408]]), ([['wanting', 'fight'], ['looks', 'embarrassed'], ['got', 'scared'], ['sneezing'], ['hiding'], ['protecting'], ['edge', 'hiding', 'attack'], ['got', 'scared', 'something'], ['wary', 'something', 'protecting'], ['sneezing'], ['get', 'fright', 'see'], ['protecting'], ['think', 'suddenly', 'scared', 'something'], ['ready', 'fight'], ['protection', 'something'], ['think', 'wants', 'show', 'shy']], [[0.48399153, 0.22580636], [0.102288984, 0.47148928], [0.2674184, 0.79466367], [0.13214315], [0.30678204], [0.16181014], [0.093280464, 0.30678204, 0.094808266], [0.2674184, 0.79466367, 0.34073532], [0.5180489, 0.34073532, 0.16181014], [0.13214315], [0.29053748, 0.22514153, 0.28340128], [0.16181014], [0.46020803, 0.27506477, 0.79466367, 0.34073532], [0.41790527, 0.22580636], [0.14722256, 0.34073532], [0.46020803, 0.3538246, 0.13094948, 0.32871976]]), ([['bit', 'confused'], ['maybe', 'scratching', 'head'], ['lost'], ['posing', 'photo'], ['bunny', 'ears'], ['thinking'], ['thinking'], ['thinking'], ['thinking', 'something', 'still', 'getting'], ['asking', 'attention'], ['scratch', 'head', 'thinking'], ['thinking'], ['reflecting', 'something'], ['questioning'], ['hair', 'fiddling'], ['smelling', 'armpit']], [[0.32429096, 0.38055557], [0.52599686, 0.3424771, 0.07379476], [0.10010821], [0.10507395, -0.0025524725], [0.08484763, 0.121769525], [1.0], [1.0], [1.0], [1.0, 0.4728136, 0.21799582, 0.35991472], [0.36458313, 0.19147818], [0.18036649, 0.07379476, 1.0], [1.0], [0.08667601, 0.4728136], [0.27021047], [0.1322092, 0.21647608], [0.24134138, 0.061083637]]), ([['doubt'], ['pointing', 'something'], ['wanted', 'grab', 'something'], ['giving', 'hand', 'handshake'], ['wants', 'grab', 'something'], ['finding', 'something'], ['doubting', 'hesitating'], ['wanting', 'grab', 'something'], ['noticing', 'something', 'showing', 'really', 'wants'], ['trying', 'make', 'point'], ['give', 'thing'], ['look', 'something'], ['feel', 'like', 'wants', 'pull', 'something'], ['wanted', 'something', 'laying', 'floor'], ['shaking', 'hand'], ['kind', 'danger']], [[0.16661589], [0.99999994, 0.10985067], [0.11067401, 0.13675418, 0.10985067], [0.21003489, 0.21502283, 0.11715734], [0.12659045, 0.13675418, 0.10985067], [0.29919535, 0.10985067], [0.24525408, 0.2034672], [0.16265318, 0.13675418, 0.10985067], [0.30645645, 0.10985067, 0.41998675, 0.13495095, 0.12659045], [0.1889489, 0.09056394, 0.27985263], [0.09706643, 0.10989085], [0.31471634, 0.10985067], [0.12910686, 0.14310993, 0.12659045, 0.27236527, 0.10985067], [0.11067401, 0.10985067, 0.29899508, 0.046312544], [0.26748952, 0.21502283], [0.11824571, 0.083930194]]), ([['posing', 'completely', 'stress', 'attack', 'relax'], ['taking'], ['wanted', 'show', 'harm', 'reacted', 'ready', 'protect'], ['marshal', 'arts'], ['showing', 'move', 'done'], ['thinking', 'doubting'], ['looks', 'surprised', 'question', 'ask'], ['first', 'thinking', 'got', 'idea', 'answer'], ['puzzling', 'something', 'finally', 'getting', 'satisfaction'], ['cheering', 'goal', 'made'], ['oh', 'happening', 'something'], ['dance', 'move'], ['seems', 'like', 'pulling', 'imaginary', 'hair', 'head', 'looks'], ['something', 'loving'], ['raising', 'hand', 'class'], ['keep', 'tight', 'stay', 'focused', 'wants', 'tell']], [[0.20651713, 0.21843955, 0.09073977, -0.005523024, 0.1129967], [0.2975742], [0.17198853, 0.15746588, 0.12209484, 0.12819733, 0.11227711, 0.14291888], [-0.01760282, 0.0070657544], [0.24869138, 0.16036464, 0.1312308], [0.48543537, 0.27628034], [0.08588082, 0.19201995, 0.10296443, 0.09363991], [0.07527046, 0.48543537, 0.26080477, 0.23286, -0.0036329422], [0.040121544, 0.24918859, 0.2537154, 0.44931826, 0.14093189], [0.123810545, 0.17572758, 0.123650245], [0.1584938, 0.22752905, 0.24918859], [0.020083511, 0.16036464], [0.19461949, 0.17894275, 0.2605645, 0.15954247, 0.09262219, 0.060664058, 0.08588082], [0.24918859, 0.16650064], [0.19458479, 0.04899786, 0.069414236], [0.05445448, -0.0029236872, 0.0027583097, 0.1515771, 0.04984516, 0.2709785]])]\n"
     ]
    }
   ],
   "source": [
    "mime1 = (mime_1,mime_d_1)\n",
    "mime2 = (mime_2,mime_d_2)\n",
    "mime3 = (mime_3,mime_d_3)\n",
    "mime4 = (mime_4,mime_d_4)\n",
    "mime5 = (mime_5,mime_d_5)\n",
    "mime6 = (mime_6,mime_d_6)\n",
    "mime7 = (mime_7,mime_d_7)\n",
    "mime8 = (mime_8,mime_d_8)\n",
    "\n",
    "print([mime1, mime2,mime3,mime4,mime5,mime6,mime7,mime8])\n"
   ]
  },
  {
   "cell_type": "code",
   "execution_count": 60,
   "metadata": {},
   "outputs": [
    {
     "name": "stdout",
     "output_type": "stream",
     "text": [
      "[([['waving', 'hi', 'bye'], ['think', 'greeting'], ['saying', 'waving', 'hand'], ['waving', 'hello'], ['think', 'waving', 'get', 'attention'], ['saying', 'hi', 'wave'], ['waving', 'greeting', 'goodbye'], ['waving'], ['waving'], ['waving', 'hello'], ['waving'], ['waving', 'someone'], ['waving', 'goodbye'], ['waving'], ['waving'], ['pointing', 'towards', 'something'], ['waving', 'greeting'], ['trying', 'attract', 'attention', 'say', 'hi', 'case', 'creepy', 'three', 'fingered', 'wave'], ['waving', 'goodbye'], ['waving'], ['waving'], ['waving'], ['saying', 'goodbye'], ['waving'], ['waving', 'order', 'somehting', 'like', 'restaurant'], ['waving'], ['waving'], ['waving'], ['waving'], ['waving']], [[1.0, 0.19403835, 0.05614375], [0.12867108, 0.4388664], [0.23092149, 1.0, 0.30938086], [1.0, 0.33533445], [0.12867108, 1.0, 0.15627067, 0.10094433], [0.23092149, 0.19403835, 0.2687505], [1.0, 0.4388664, 0.21717496], [1.0], [1.0], [1.0, 0.33533445], [1.0], [1.0, 0.104635775], [1.0, 0.21717496], [1.0], [1.0], [0.42490113, 0.14926055, 0.13792531], [1.0, 0.4388664], [0.17556827, 0.100959666, 0.10094433, 0.15305138, 0.19403835, 0.013318387, 0.11672358, 0.05654263, 0.23365709, 0.2687505], [1.0, 0.21717496], [1.0], [1.0], [1.0], [0.23092149, 0.21717496], [1.0], [1.0, -0.013417159, 0.0721511, 0.18884309, 0.051330015], [1.0], [1.0], [1.0], [1.0], [1.0]]), ([['lost', 'courage'], ['seems', 'disappointed'], ['rot', 'felt', 'sorry'], ['communicating', 'thank'], ['mad'], ['disappointment'], ['could', 'slow', 'nod', 'hanging', 'head', 'indicate', 'feeling'], ['looking', 'feet'], ['seemed', 'disappointed'], ['looked', 'unsure', 'unhappy'], ['feeling', 'guilty', 'sorry'], ['thankful'], ['guilty', 'apologetic'], ['sad'], ['got', 'sad', 'felt', 'bad'], ['lowering', 'head'], ['shy'], ['disappointed', 'feeling', 'sorry', 'something'], ['sad'], ['bow', 'head', 'salute'], ['felt', 'remorse'], ['greeting', 'submissively'], ['feeling', 'guilty'], ['bird', 'dropping', 'dead', 'front'], ['think', 'thats', 'good', 'idea', 'sure', 'join', 'quite', 'sure'], ['shame'], ['looking', 'realizing', 'shoelace', 'untied', 'something'], ['feeling', 'sad', 'helpless'], ['feeling', 'shy'], ['ashamed']], [[0.1992348, 0.21449918], [0.29294187, 0.52453864], [0.21544483, 0.31117234, 0.6194047], [0.025886342, 0.24280098], [0.36566046], [0.3642774], [0.15048082, 0.18533595, 0.012884369, 0.22826885, 0.07136894, 0.043471694, 0.371798], [0.22957195, -0.01801021], [0.19636787, 0.52453864], [0.19207813, 0.1806443, 0.41572243], [0.371798, 0.20040327, 0.6194047], [0.47363105], [0.20040327, 0.3517855], [1.0], [0.1585772, 1.0, 0.31117234, 0.42367142], [-0.05240551, 0.07136894], [0.17939915], [0.52453864, 0.371798, 0.6194047, 0.33841303], [1.0], [0.100526966, 0.07136894, 0.20427631], [0.31117234, 0.23146631], [0.12295767, 0.12723719], [0.371798, 0.20040327], [0.09460211, 0.09612289, 0.17766327, 0.034936253], [0.34145874, 0.23317462, 0.3602742, 0.10348253, 0.23957305, 0.07879453, 0.28481072, 0.23957305], [0.5615138], [0.22957195, 0.17435338, 0.10573749, 0.12280229, 0.33841303], [0.371798, 1.0, 0.32526416], [0.371798, 0.17939915], [0.48005152]]), ([['dancing'], ['dancing'], ['dancing'], ['dancing'], ['dancing'], ['partying', 'classic', 'disco', 'move'], ['dancing'], ['grooving', 'boogie'], ['dancing'], ['dancing'], ['dancing', 'boogie'], ['dancing', 'feeling', 'cheerful'], ['dancing'], ['enthusiastically', 'dancing'], ['dancing', 'travolta'], ['dancing'], ['dancing', 'happy'], ['kind', 'saturday', 'night', 'fever', 'move'], ['dance', 'disco', 'boogie'], ['disco', 'dancing'], ['dance'], ['think', 'demonstrating', 'pull', 'something', 'genitals'], ['dancing'], ['disco', 'dancing'], ['haha', 'yes', 'wanna', 'dance'], ['dancing'], ['stayin', 'alive'], ['dancing'], ['dancing'], ['think', 'dancing']], [[1.0], [1.0], [1.0], [1.0], [1.0], [0.36282852, 0.1668573, 0.5472135, 0.12487434], [1.0], [0.4962421, 0.4202934], [1.0], [1.0], [1.0, 0.4202934], [1.0, 0.14032385, 0.15042593], [1.0], [0.16780688, 1.0], [1.0, 0.2002488], [1.0], [1.0, 0.17744133], [0.104050756, 0.08652511, 0.21689135, 0.051316593, 0.12487434], [0.8380803, 0.5472135, 0.4202934], [0.5472135, 1.0], [0.8380803], [0.15337834, 0.1309087, 0.046278626, 0.17152599, 0.2109957], [1.0], [0.5472135, 1.0], [0.23597479, 0.15114836, 0.23333158, 0.8380803], [1.0], [0.25101206, 0.13861601], [1.0], [1.0], [0.15337834, 1.0]]), ([['looking', 'around'], ['searching', 'something'], ['confused', 'surprised'], ['observing'], ['think', 'checking', 'surroundings'], ['looking', 'around', 'trying', 'act', 'suspicious'], ['looking', 'around'], ['looking', 'around'], ['seems', 'startled', 'confused'], ['looking', 'around'], ['looking', 'around'], ['sees', 'something', 'see', 'looks', 'way', 'peeks'], ['suspicious'], ['following', 'something', 'head'], ['looking', 'bird', 'landing', 'ground'], ['looking', 'around'], ['tense', 'scared'], ['noticing', 'something', 'air', 'finally', 'lands', 'ground', 'losing', 'interest'], ['following', 'fly'], ['makes', 'shy'], ['curious'], ['feel', 'like', 'bit', 'surprised', 'sees'], ['questions', 'know', 'moment'], ['realizing'], ['observing', 'surroundings'], ['looking', 'around'], ['looking', 'around'], ['looking', 'something'], ['uncertain', 'something'], ['observing']], [[1.0, 0.13615337], [0.59240395, 0.26812488], [0.24381873, 0.24947044], [0.19862387], [0.38910553, 0.32654244, 0.11542408], [1.0, 0.13615337, 0.5487003, 0.087797634, 0.18086699], [1.0, 0.13615337], [1.0, 0.13615337], [0.22390333, 0.20116496, 0.24381873], [1.0, 0.13615337], [1.0, 0.13615337], [0.3135822, 0.26812488, 0.35910085, 0.50919497, 0.21358697, 0.21250083], [0.18086699], [0.1255437, 0.26812488, 0.12390951], [1.0, 0.08445776, 0.12391867, 0.06945666], [1.0, 0.13615337], [0.09048863, 0.29444438], [0.30980796, 0.26812488, 0.054535843, 0.118490696, 0.041628648, 0.06945666, 0.17768858, 0.10955415], [0.1255437, 0.0420132], [0.19029419, 0.13665515], [0.3295096], [0.35044977, 0.32101074, 0.24447684, 0.24947044, 0.3135822], [0.11783688, 0.31050476, 0.22970653], [0.28351268], [0.19862387, 0.11542408], [1.0, 0.13615337], [1.0, 0.13615337], [1.0, 0.26812488], [0.284423, 0.26812488], [0.19862387]]), ([['wanting', 'fight'], ['looks', 'embarrassed'], ['got', 'scared'], ['sneezing'], ['hiding'], ['pointing', 'something'], ['dabbing'], ['dabbing', 'haters'], ['tries', 'shield', 'dabbing'], ['dab', 'think', 'dabbed'], ['protecting'], ['scared', 'something'], ['edge', 'hiding', 'attack'], ['protecting', 'something'], ['got', 'scared', 'something'], ['shielding'], ['shielding', 'something'], ['wary', 'something', 'protecting'], ['sneezing'], ['get', 'fright', 'see'], ['protecting'], ['think', 'suddenly', 'scared', 'something'], ['ready', 'fight'], ['protection', 'something'], ['think', 'wants', 'show', 'shy'], ['shielding'], ['dab'], ['raising', 'arm', 'defense'], ['shielding', 'something', 'scared', 'fearful'], ['looked', 'like', 'distressed', 'scared']], [[0.48399153, 0.22580636], [0.102288984, 0.47148928], [0.2674184, 0.79466367], [0.13214315], [0.30678204], [0.17712626, 0.34073532], [0.0886854], [0.0886854, 0.20724222], [0.15175255, 0.143891, 0.0886854], [0.08696069, 0.46020803, 0.040676504], [0.16181014], [0.79466367, 0.34073532], [0.093280464, 0.30678204, 0.094808266], [0.16181014, 0.34073532], [0.2674184, 0.79466367, 0.34073532], [0.14860956], [0.14860956, 0.34073532], [0.5180489, 0.34073532, 0.16181014], [0.13214315], [0.29053748, 0.22514153, 0.28340128], [0.16181014], [0.46020803, 0.27506477, 0.79466367, 0.34073532], [0.41790527, 0.22580636], [0.14722256, 0.34073532], [0.46020803, 0.3538246, 0.13094948, 0.32871976], [0.14860956], [0.08696069], [0.08476745, 0.06255599, 0.08450824], [0.14860956, 0.34073532, 0.79466367, 0.69924116], [0.13409328, 0.38587266, 0.23923242, 0.79466367]]), ([['bit', 'confused'], ['maybe', 'scratching', 'head'], ['lost'], ['posing', 'photo'], ['bunny', 'ears'], ['imitating', 'monkey'], ['scratching', 'head', 'thinking', 'something'], ['stretching'], ['confused'], ['scratching', 'head'], ['thinking'], ['clue', 'based', 'first', 'tying', 'think', 'something'], ['thinking'], ['question'], ['thinking'], ['know'], ['thinking'], ['thinking', 'something', 'still', 'getting'], ['asking', 'attention'], ['scratch', 'head', 'thinking'], ['thinking'], ['reflecting', 'something'], ['questioning'], ['hair', 'fiddling'], ['smelling', 'armpit'], ['thinking'], ['armpit', 'thing', 'idk', 'stretching'], ['asking', 'attention'], ['scratching', 'head', 'thinking'], ['scratching', 'head']], [[0.32429096, 0.38055557], [0.52599686, 0.3424771, 0.07379476], [0.10010821], [0.10507395, -0.0025524725], [0.08484763, 0.121769525], [0.29451814, 0.15349425], [0.3424771, 0.07379476, 1.0, 0.4728136], [0.20354113], [0.38055557], [0.3424771, 0.07379476], [1.0], [0.3147139, 0.008521522, 0.108795114, 0.18078107, 0.61104006, 0.4728136], [1.0], [0.31420255], [1.0], [0.47800428], [1.0], [1.0, 0.4728136, 0.21799582, 0.35991472], [0.36458313, 0.19147818], [0.18036649, 0.07379476, 1.0], [1.0], [0.08667601, 0.4728136], [0.27021047], [0.1322092, 0.21647608], [0.24134138, 0.061083637], [1.0], [0.061083637, 0.4372217, 0.21707757, 0.20354113], [0.36458313, 0.19147818], [0.3424771, 0.07379476, 1.0], [0.3424771, 0.07379476]]), ([['doubt'], ['pointing', 'something'], ['wanted', 'grab', 'something'], ['giving', 'hand', 'handshake'], ['wants', 'grab', 'something'], ['grab', 'something', 'front'], ['grabbing', 'something'], ['grabbing', 'something'], ['reaching', 'something'], ['trying', 'shake', 'hand'], ['finding', 'something'], ['trying', 'find', 'something', 'finding', 'trying', 'grab'], ['doubting', 'hesitating'], ['nervous'], ['wanting', 'grab', 'something'], ['choosing'], ['something'], ['noticing', 'something', 'showing', 'really', 'wants'], ['trying', 'make', 'point'], ['give', 'thing'], ['look', 'something'], ['feel', 'like', 'wants', 'pull', 'something'], ['wanted', 'something', 'laying', 'floor'], ['shaking', 'hand'], ['kind', 'danger'], ['reaching'], ['pull', 'communicates', 'surprise', 'distracting'], ['holding', 'hand', 'greeting'], ['unsure', 'something', 'trying', 'move', 'something'], ['think', 'pointing', 'something', 'checking', 'person', 'understood', 'nodding']], [[0.16661589], [0.99999994, 0.10985067], [0.11067401, 0.13675418, 0.10985067], [0.21003489, 0.21502283, 0.11715734], [0.12659045, 0.13675418, 0.10985067], [0.13675418, 0.10985067, 0.17997882], [0.2274013, 0.10985067], [0.2274013, 0.10985067], [0.2580994, 0.10985067], [0.1889489, 0.14727895, 0.21502283], [0.29919535, 0.10985067], [0.1889489, 0.21332194, 0.10985067, 0.29919535, 0.1889489, 0.13675418], [0.24525408, 0.2034672], [0.057034936], [0.16265318, 0.13675418, 0.10985067], [0.12214953], [0.10985067], [0.30645645, 0.10985067, 0.41998675, 0.13495095, 0.12659045], [0.1889489, 0.09056394, 0.27985263], [0.09706643, 0.10989085], [0.31471634, 0.10985067], [0.12910686, 0.14310993, 0.12659045, 0.27236527, 0.10985067], [0.11067401, 0.10985067, 0.29899508, 0.046312544], [0.26748952, 0.21502283], [0.11824571, 0.083930194], [0.2580994], [0.27236527, 0.14442417, 0.035327267, 0.1539007], [0.2638182, 0.21502283, 0.16681047], [0.13994318, 0.10985067, 0.1889489, 0.17117624, 0.10985067], [0.22488858, 0.99999994, 0.10985067, 0.28033966, -0.0019864312, 0.156793, 0.31987023]]), ([['posing', 'completely', 'stress', 'attack', 'relax'], ['taking'], ['wanted', 'show', 'harm', 'reacted', 'ready', 'protect'], ['marshal', 'arts'], ['showing', 'move', 'done'], ['apes', 'together', 'strong', 'planet', 'apes'], ['scratching', 'head', 'thinking', 'something', 'eureka', 'moment'], ['showing', 'affection'], ['thinking', 'something'], ['either', 'raising', 'hand', 'catching', 'something'], ['thinking', 'doubting'], ['trying', 'answer', 'thinking', 'yes', 'know', 'answer'], ['looks', 'surprised', 'question', 'ask'], ['timer', 'reached'], ['first', 'thinking', 'got', 'idea', 'answer'], ['thinking', 'understanding'], ['thinking', 'agreeing'], ['puzzling', 'something', 'finally', 'getting', 'satisfaction'], ['cheering', 'goal', 'made'], ['oh', 'happening', 'something'], ['dance', 'move'], ['seems', 'like', 'pulling', 'imaginary', 'hair', 'head', 'looks'], ['something', 'loving'], ['raising', 'hand', 'class'], ['keep', 'tight', 'stay', 'focused', 'wants', 'tell'], ['catching', 'something'], ['smell', 'armpit', 'feel', 'sorry'], ['asking', 'help'], ['trying', 'get', 'attention'], ['really', 'know', 'sort', 'looked', 'like', 'giving', 'finger']], [[0.20651713, 0.21843955, 0.09073977, -0.005523024, 0.1129967], [0.2975742], [0.17198853, 0.15746588, 0.12209484, 0.12819733, 0.11227711, 0.14291888], [-0.01760282, 0.0070657544], [0.24869138, 0.16036464, 0.1312308], [0.08373236, 0.21862353, 0.004390734, 0.15393305, 0.08373236], [0.13494287, 0.060664058, 0.48543537, 0.24918859, 0.26411942, 0.24276145], [0.24869138, 0.06458339], [0.48543537, 0.24918859], [0.106693186, 0.19458479, 0.04899786, 0.33120725, 0.24918859], [0.48543537, 0.27628034], [0.18327871, -0.0036329422, 0.48543537, 0.09978255, 0.30810937, -0.0036329422], [0.08588082, 0.19201995, 0.10296443, 0.09363991], [0.040016677, 0.09034679], [0.07527046, 0.48543537, 0.26080477, 0.23286, -0.0036329422], [0.48543537, 0.38474268], [0.48543537, 0.2725933], [0.040121544, 0.24918859, 0.2537154, 0.44931826, 0.14093189], [0.123810545, 0.17572758, 0.123650245], [0.1584938, 0.22752905, 0.24918859], [0.020083511, 0.16036464], [0.19461949, 0.17894275, 0.2605645, 0.15954247, 0.09262219, 0.060664058, 0.08588082], [0.24918859, 0.16650064], [0.19458479, 0.04899786, 0.069414236], [0.05445448, -0.0029236872, 0.0027583097, 0.1515771, 0.04984516, 0.2709785], [0.33120725, 0.24918859], [0.049967136, 0.062025405, 0.29051742, 0.16962563], [0.20989469, 0.08810461], [0.18327871, 0.2504778, 0.16228522], [0.27363715, 0.30810937, 0.14825869, 0.1913532, 0.17894275, 0.29684862, 0.022043623]])]\n"
     ]
    }
   ],
   "source": [
    "data1 = (data_1,d_d_1)\n",
    "data2 = (data_2,d_d_2)\n",
    "data3 = (data_3,d_d_3)\n",
    "data4 = (data_4,d_d_4)\n",
    "data5 = (data_5,d_d_5)\n",
    "data6 = (data_6,d_d_6)\n",
    "data7 = (data_7,d_d_7)\n",
    "data8 = (data_8,d_d_8)\n",
    "\n",
    "print([data1, data2,data3,data4,data5,data6,data7,data8])\n"
   ]
  },
  {
   "cell_type": "code",
   "execution_count": 26,
   "metadata": {},
   "outputs": [],
   "source": [
    "op = df[df['survey'] == 'o']\n",
    "af = df[df['survey'] == 'a']\n",
    "r = df[df['survey'] == 'r']"
   ]
  },
  {
   "cell_type": "code",
   "execution_count": 49,
   "metadata": {},
   "outputs": [],
   "source": [
    "op_1 = clean_data(cleaner(op, 1))\n",
    "op_2 = clean_data(cleaner(op, 2))\n",
    "op_3 = clean_data(cleaner(op, 3))\n",
    "op_4 = clean_data(cleaner(op, 4))\n",
    "op_5 = clean_data(cleaner(op, 5))\n",
    "op_6 = clean_data(cleaner(op, 6))\n",
    "op_7 = clean_data(cleaner(op, 7))\n",
    "op_8 = clean_data(cleaner(op, 8))\n",
    "\n",
    "af_1 = clean_data(cleaner(af, 1))\n",
    "af_2 = clean_data(cleaner(af, 2))\n",
    "af_3 = clean_data(cleaner(af, 3))\n",
    "af_4 = clean_data(cleaner(af, 4))\n",
    "af_5 = clean_data(cleaner(af, 5))\n",
    "af_6 = clean_data(cleaner(af, 6))\n",
    "af_7 = clean_data(cleaner(af, 7))\n",
    "af_8 = clean_data(cleaner(af, 8))\n",
    "\n",
    "r_1 = clean_data(cleaner(r, 1))\n",
    "r_2 = clean_data(cleaner(r, 2))\n",
    "r_3 = clean_data(cleaner(r, 3))\n",
    "r_4 = clean_data(cleaner(r, 4))\n",
    "r_5 = clean_data(cleaner(r, 5))\n",
    "r_6 = clean_data(cleaner(r, 6))\n",
    "r_7 = clean_data(cleaner(r, 7))\n",
    "r_8 = clean_data(cleaner(r, 8))"
   ]
  },
  {
   "cell_type": "code",
   "execution_count": 61,
   "metadata": {},
   "outputs": [
    {
     "name": "stdout",
     "output_type": "stream",
     "text": [
      "[['get', 'fright', 'see'], ['protecting'], ['think', 'suddenly', 'scared', 'something'], ['ready', 'fight'], ['protection', 'something'], ['think', 'wants', 'show', 'shy'], ['shielding'], ['dab'], ['raising', 'arm', 'defense'], ['shielding', 'something', 'scared', 'fearful'], ['looked', 'like', 'distressed', 'scared']]\n",
      "[['get', 'fright', 'see'], ['protecting'], ['think', 'suddenly', 'scared', 'something'], ['ready', 'fight'], ['protection', 'something'], ['think', 'wants', 'show', 'shy'], ['shielding'], ['dab'], ['raising', 'arm', 'defense'], ['shielding', 'something', 'scared', 'fearful'], ['looked', 'like', 'distressed', 'scared']]\n"
     ]
    }
   ],
   "source": [
    "print(r_5)\n",
    "r_5[4] = ['protection', 'something']\n",
    "print(r_5)\n",
    "# del r_5[4]"
   ]
  },
  {
   "cell_type": "code",
   "execution_count": 62,
   "metadata": {},
   "outputs": [],
   "source": [
    "op_sim_1 = compare_similarity(op_1, 'waving')\n",
    "op_sim_2 = compare_similarity(op_2, 'sad')\n",
    "op_sim_3 = compare_similarity(op_3, 'dancing')\n",
    "op_sim_4 = compare_similarity(op_4, 'looking')\n",
    "op_sim_5 = compare_similarity(op_5, 'afraid')\n",
    "op_sim_6 = compare_similarity(op_6, 'thinking')\n",
    "op_sim_7 = compare_similarity(op_7, 'pointing')\n",
    "op_sim_8 = compare_similarity(op_8, 'realizing')\n",
    "\n",
    "af_sim_1 = compare_similarity(af_1, 'waving')\n",
    "af_sim_2 = compare_similarity(af_2, 'sad')\n",
    "af_sim_3 = compare_similarity(af_3, 'dancing')\n",
    "af_sim_4 = compare_similarity(af_4, 'looking')\n",
    "af_sim_5 = compare_similarity(af_5, 'afraid')\n",
    "af_sim_6 = compare_similarity(af_6, 'thinking')\n",
    "af_sim_7 = compare_similarity(af_7, 'pointing')\n",
    "af_sim_8 = compare_similarity(af_8, 'realizing')\n",
    "\n",
    "r_sim_1 = compare_similarity(r_1, 'waving')\n",
    "r_sim_2 = compare_similarity(r_2, 'sad')\n",
    "r_sim_3 = compare_similarity(r_3, 'dancing')\n",
    "r_sim_4 = compare_similarity(r_4, 'looking')\n",
    "r_sim_5 = compare_similarity(r_5, 'afraid')\n",
    "r_sim_6 = compare_similarity(r_6, 'thinking')\n",
    "r_sim_7 = compare_similarity(r_7, 'pointing')\n",
    "r_sim_8 = compare_similarity(r_8, 'realizing')\n",
    "\n"
   ]
  },
  {
   "cell_type": "code",
   "execution_count": 63,
   "metadata": {},
   "outputs": [],
   "source": [
    "op1 = (op_1,op_sim_1)\n",
    "op2 = (op_2,op_sim_2)\n",
    "op3 = (op_3,op_sim_3)\n",
    "op4 = (op_4,op_sim_4)\n",
    "op5 = (op_5,op_sim_5)\n",
    "op6 = (op_6,op_sim_6)\n",
    "op7 = (op_7,op_sim_7)\n",
    "op8 = (op_8,op_sim_8)\n",
    "\n",
    "af1 = (af_1,af_sim_1)\n",
    "af2 = (af_2,af_sim_2)\n",
    "af3 = (af_3,af_sim_3)\n",
    "af4 = (af_4,af_sim_4)\n",
    "af5 = (af_5,af_sim_5)\n",
    "af6 = (af_6,af_sim_6)\n",
    "af7 = (af_7,af_sim_7)\n",
    "af8 = (af_8,af_sim_8)\n",
    "\n",
    "r1 = (r_1,r_sim_1)\n",
    "r2 = (r_2,r_sim_2)\n",
    "r3 = (r_3,r_sim_3)\n",
    "r4 = (r_4,r_sim_4)\n",
    "r5 = (r_5,r_sim_5)\n",
    "r6 = (r_6,r_sim_6)\n",
    "r7 = (r_7,r_sim_7)\n",
    "r8 = (r_8,r_sim_8)\n"
   ]
  },
  {
   "cell_type": "code",
   "execution_count": 41,
   "metadata": {},
   "outputs": [
    {
     "name": "stdout",
     "output_type": "stream",
     "text": [
      "[([['waving', 'hi', 'bye'], ['think', 'greeting'], ['saying', 'waving', 'hand'], ['waving', 'hello'], ['think', 'waving', 'get', 'attention'], ['saying', 'hi', 'wave'], ['waving', 'greeting', 'goodbye'], ['waving'], ['waving'], ['waving', 'hello']], [[1.0, 0.19403835, 0.05614375], [0.12867108, 0.4388664], [0.23092149, 1.0, 0.30938086], [1.0, 0.33533445], [0.12867108, 1.0, 0.15627067, 0.10094433], [0.23092149, 0.19403835, 0.2687505], [1.0, 0.4388664, 0.21717496], [1.0], [1.0], [1.0, 0.33533445]]), ([['lost', 'courage'], ['seems', 'disappointed'], ['rot', 'felt', 'sorry'], ['communicating', 'thank'], ['mad'], ['disappointment'], ['could', 'slow', 'nod', 'hanging', 'head', 'indicate', 'feeling'], ['looking', 'feet'], ['seemed', 'disappointed'], ['looked', 'unsure', 'unhappy']], [[0.1992348, 0.21449918], [0.29294187, 0.52453864], [0.21544483, 0.31117234, 0.6194047], [0.025886342, 0.24280098], [0.36566046], [0.3642774], [0.15048082, 0.18533595, 0.012884369, 0.22826885, 0.07136894, 0.043471694, 0.371798], [0.22957195, -0.01801021], [0.19636787, 0.52453864], [0.19207813, 0.1806443, 0.41572243]]), ([['dancing'], ['dancing'], ['dancing'], ['dancing'], ['dancing'], ['partying', 'classic', 'disco', 'move'], ['dancing'], ['grooving', 'boogie'], ['dancing'], ['dancing']], [[1.0], [1.0], [1.0], [1.0], [1.0], [0.36282852, 0.1668573, 0.5472135, 0.12487434], [1.0], [0.4962421, 0.4202934], [1.0], [1.0]]), ([['looking', 'around'], ['searching', 'something'], ['confused', 'surprised'], ['observing'], ['think', 'checking', 'surroundings'], ['looking', 'around', 'trying', 'act', 'suspicious'], ['looking', 'around'], ['looking', 'around'], ['seems', 'startled', 'confused'], ['looking', 'around']], [[1.0, 0.13615337], [0.59240395, 0.26812488], [0.24381873, 0.24947044], [0.19862387], [0.38910553, 0.32654244, 0.11542408], [1.0, 0.13615337, 0.5487003, 0.087797634, 0.18086699], [1.0, 0.13615337], [1.0, 0.13615337], [0.22390333, 0.20116496, 0.24381873], [1.0, 0.13615337]]), ([['wanting', 'fight'], ['looks', 'embarrassed'], ['got', 'scared'], ['sneezing'], ['hiding'], ['pointing', 'something'], ['dabbing'], ['dabbing', 'haters'], ['tries', 'shield', 'dabbing'], ['dab', 'think', 'dabbed']], [[0.48399153, 0.22580636], [0.102288984, 0.47148928], [0.2674184, 0.79466367], [0.13214315], [0.30678204], [0.17712626, 0.34073532], [0.0886854], [0.0886854, 0.20724222], [0.15175255, 0.143891, 0.0886854], [0.08696069, 0.46020803, 0.040676504]]), ([['bit', 'confused'], ['maybe', 'scratching', 'head'], ['lost'], ['posing', 'photo'], ['bunny', 'ears'], ['imitating', 'monkey'], ['scratching', 'head', 'thinking', 'something'], ['stretching'], ['confused'], ['scratching', 'head']], [[0.32429096, 0.38055557], [0.52599686, 0.3424771, 0.07379476], [0.10010821], [0.10507395, -0.0025524725], [0.08484763, 0.121769525], [0.29451814, 0.15349425], [0.3424771, 0.07379476, 1.0, 0.4728136], [0.20354113], [0.38055557], [0.3424771, 0.07379476]]), ([['doubt'], ['pointing', 'something'], ['wanted', 'grab', 'something'], ['giving', 'hand', 'handshake'], ['wants', 'grab', 'something'], ['grab', 'something', 'front'], ['grabbing', 'something'], ['grabbing', 'something'], ['reaching', 'something'], ['trying', 'shake', 'hand']], [[0.16661589], [0.99999994, 0.10985067], [0.11067401, 0.13675418, 0.10985067], [0.21003489, 0.21502283, 0.11715734], [0.12659045, 0.13675418, 0.10985067], [0.13675418, 0.10985067, 0.17997882], [0.2274013, 0.10985067], [0.2274013, 0.10985067], [0.2580994, 0.10985067], [0.1889489, 0.14727895, 0.21502283]]), ([['posing', 'completely', 'stress', 'attack', 'relax'], ['taking'], ['wanted', 'show', 'harm', 'reacted', 'ready', 'protect'], ['marshal', 'arts'], ['showing', 'move', 'done'], ['apes', 'together', 'strong', 'planet', 'apes'], ['scratching', 'head', 'thinking', 'something', 'eureka', 'moment'], ['showing', 'affection'], ['thinking', 'something'], ['either', 'raising', 'hand', 'catching', 'something']], [[0.20651713, 0.21843955, 0.09073977, -0.005523024, 0.1129967], [0.2975742], [0.17198853, 0.15746588, 0.12209484, 0.12819733, 0.11227711, 0.14291888], [-0.01760282, 0.0070657544], [0.24869138, 0.16036464, 0.1312308], [0.08373236, 0.21862353, 0.004390734, 0.15393305, 0.08373236], [0.13494287, 0.060664058, 0.48543537, 0.24918859, 0.26411942, 0.24276145], [0.24869138, 0.06458339], [0.48543537, 0.24918859], [0.106693186, 0.19458479, 0.04899786, 0.33120725, 0.24918859]])]\n"
     ]
    }
   ],
   "source": [
    "print([op1,op2,op3,op4,op5,op6,op7,op8])"
   ]
  },
  {
   "cell_type": "code",
   "execution_count": 42,
   "metadata": {},
   "outputs": [
    {
     "name": "stdout",
     "output_type": "stream",
     "text": [
      "[([['waving'], ['waving', 'someone'], ['waving', 'goodbye'], ['waving'], ['waving'], ['pointing', 'towards', 'something'], ['waving', 'greeting'], ['trying', 'attract', 'attention', 'say', 'hi', 'case', 'creepy', 'three', 'fingered', 'wave'], ['waving', 'goodbye']], [[1.0], [1.0, 0.104635775], [1.0, 0.21717496], [1.0], [1.0], [0.42490113, 0.14926055, 0.13792531], [1.0, 0.4388664], [0.17556827, 0.100959666, 0.10094433, 0.15305138, 0.19403835, 0.013318387, 0.11672358, 0.05654263, 0.23365709, 0.2687505], [1.0, 0.21717496]]), ([['feeling', 'guilty', 'sorry'], ['thankful'], ['guilty', 'apologetic'], ['sad'], ['got', 'sad', 'felt', 'bad'], ['lowering', 'head'], ['shy'], ['disappointed', 'feeling', 'sorry', 'something'], ['sad']], [[0.371798, 0.20040327, 0.6194047], [0.47363105], [0.20040327, 0.3517855], [1.0], [0.1585772, 1.0, 0.31117234, 0.42367142], [-0.05240551, 0.07136894], [0.17939915], [0.52453864, 0.371798, 0.6194047, 0.33841303], [1.0]]), ([['dancing', 'boogie'], ['dancing', 'feeling', 'cheerful'], ['dancing'], ['enthusiastically', 'dancing'], ['dancing', 'travolta'], ['dancing'], ['dancing', 'happy'], ['kind', 'saturday', 'night', 'fever', 'move'], ['dance', 'disco', 'boogie']], [[1.0, 0.4202934], [1.0, 0.14032385, 0.15042593], [1.0], [0.16780688, 1.0], [1.0, 0.2002488], [1.0], [1.0, 0.17744133], [0.104050756, 0.08652511, 0.21689135, 0.051316593, 0.12487434], [0.8380803, 0.5472135, 0.4202934]]), ([['looking', 'around'], ['sees', 'something', 'see', 'looks', 'way', 'peeks'], ['suspicious'], ['following', 'something', 'head'], ['looking', 'bird', 'landing', 'ground'], ['looking', 'around'], ['tense', 'scared'], ['noticing', 'something', 'air', 'finally', 'lands', 'ground', 'losing', 'interest'], ['following', 'fly']], [[1.0, 0.13615337], [0.3135822, 0.26812488, 0.35910085, 0.50919497, 0.21358697, 0.21250083], [0.18086699], [0.1255437, 0.26812488, 0.12390951], [1.0, 0.08445776, 0.12391867, 0.06945666], [1.0, 0.13615337], [0.09048863, 0.29444438], [0.30980796, 0.26812488, 0.054535843, 0.118490696, 0.041628648, 0.06945666, 0.17768858, 0.10955415], [0.1255437, 0.0420132]]), ([['protecting'], ['scared', 'something'], ['edge', 'hiding', 'attack'], ['protecting', 'something'], ['got', 'scared', 'something'], ['shielding'], ['shielding', 'something'], ['wary', 'something', 'protecting'], ['sneezing']], [[0.16181014], [0.79466367, 0.34073532], [0.093280464, 0.30678204, 0.094808266], [0.16181014, 0.34073532], [0.2674184, 0.79466367, 0.34073532], [0.14860956], [0.14860956, 0.34073532], [0.5180489, 0.34073532, 0.16181014], [0.13214315]]), ([['thinking'], ['clue', 'based', 'first', 'tying', 'think', 'something'], ['thinking'], ['question'], ['thinking'], ['know'], ['thinking'], ['thinking', 'something', 'still', 'getting'], ['asking', 'attention']], [[1.0], [0.3147139, 0.008521522, 0.108795114, 0.18078107, 0.61104006, 0.4728136], [1.0], [0.31420255], [1.0], [0.47800428], [1.0], [1.0, 0.4728136, 0.21799582, 0.35991472], [0.36458313, 0.19147818]]), ([['finding', 'something'], ['trying', 'find', 'something', 'finding', 'trying', 'grab'], ['doubting', 'hesitating'], ['nervous'], ['wanting', 'grab', 'something'], ['choosing'], ['something'], ['noticing', 'something', 'showing', 'really', 'wants'], ['trying', 'make', 'point']], [[0.29919535, 0.10985067], [0.1889489, 0.21332194, 0.10985067, 0.29919535, 0.1889489, 0.13675418], [0.24525408, 0.2034672], [0.057034936], [0.16265318, 0.13675418, 0.10985067], [0.12214953], [0.10985067], [0.30645645, 0.10985067, 0.41998675, 0.13495095, 0.12659045], [0.1889489, 0.09056394, 0.27985263]]), ([['thinking', 'doubting'], ['trying', 'answer', 'thinking', 'yes', 'know', 'answer'], ['looks', 'surprised', 'question', 'ask'], ['timer', 'reached'], ['first', 'thinking', 'got', 'idea', 'answer'], ['thinking', 'understanding'], ['thinking', 'agreeing'], ['puzzling', 'something', 'finally', 'getting', 'satisfaction'], ['cheering', 'goal', 'made']], [[0.48543537, 0.27628034], [0.18327871, -0.0036329422, 0.48543537, 0.09978255, 0.30810937, -0.0036329422], [0.08588082, 0.19201995, 0.10296443, 0.09363991], [0.040016677, 0.09034679], [0.07527046, 0.48543537, 0.26080477, 0.23286, -0.0036329422], [0.48543537, 0.38474268], [0.48543537, 0.2725933], [0.040121544, 0.24918859, 0.2537154, 0.44931826, 0.14093189], [0.123810545, 0.17572758, 0.123650245]])]\n"
     ]
    }
   ],
   "source": [
    "print([af1,af2,af3,af4,af5,af6,af7,af8])"
   ]
  },
  {
   "cell_type": "code",
   "execution_count": 64,
   "metadata": {},
   "outputs": [
    {
     "name": "stdout",
     "output_type": "stream",
     "text": [
      "[([['waving'], ['waving'], ['waving'], ['saying', 'goodbye'], ['waving'], ['waving', 'order', 'somehting', 'like', 'restaurant'], ['waving'], ['waving'], ['waving'], ['waving'], ['waving']], [[1.0], [1.0], [1.0], [0.23092149, 0.21717496], [1.0], [1.0, -0.013417159, 0.0721511, 0.18884309, 0.051330015], [1.0], [1.0], [1.0], [1.0], [1.0]]), ([['bow', 'head', 'salute'], ['felt', 'remorse'], ['greeting', 'submissively'], ['feeling', 'guilty'], ['bird', 'dropping', 'dead', 'front'], ['think', 'thats', 'good', 'idea', 'sure', 'join', 'quite', 'sure'], ['shame'], ['looking', 'realizing', 'shoelace', 'untied', 'something'], ['feeling', 'sad', 'helpless'], ['feeling', 'shy'], ['ashamed']], [[0.100526966, 0.07136894, 0.20427631], [0.31117234, 0.23146631], [0.12295767, 0.12723719], [0.371798, 0.20040327], [0.09460211, 0.09612289, 0.17766327, 0.034936253], [0.34145874, 0.23317462, 0.3602742, 0.10348253, 0.23957305, 0.07879453, 0.28481072, 0.23957305], [0.5615138], [0.22957195, 0.17435338, 0.10573749, 0.12280229, 0.33841303], [0.371798, 1.0, 0.32526416], [0.371798, 0.17939915], [0.48005152]]), ([['disco', 'dancing'], ['dance'], ['think', 'demonstrating', 'pull', 'something', 'genitals'], ['dancing'], ['disco', 'dancing'], ['haha', 'yes', 'wanna', 'dance'], ['dancing'], ['stayin', 'alive'], ['dancing'], ['dancing'], ['think', 'dancing']], [[0.5472135, 1.0], [0.8380803], [0.15337834, 0.1309087, 0.046278626, 0.17152599, 0.2109957], [1.0], [0.5472135, 1.0], [0.23597479, 0.15114836, 0.23333158, 0.8380803], [1.0], [0.25101206, 0.13861601], [1.0], [1.0], [0.15337834, 1.0]]), ([['makes', 'shy'], ['curious'], ['feel', 'like', 'bit', 'surprised', 'sees'], ['questions', 'know', 'moment'], ['realizing'], ['observing', 'surroundings'], ['looking', 'around'], ['looking', 'around'], ['looking', 'something'], ['uncertain', 'something'], ['observing']], [[0.19029419, 0.13665515], [0.3295096], [0.35044977, 0.32101074, 0.24447684, 0.24947044, 0.3135822], [0.11783688, 0.31050476, 0.22970653], [0.28351268], [0.19862387, 0.11542408], [1.0, 0.13615337], [1.0, 0.13615337], [1.0, 0.26812488], [0.284423, 0.26812488], [0.19862387]]), ([['get', 'fright', 'see'], ['protecting'], ['think', 'suddenly', 'scared', 'something'], ['ready', 'fight'], ['protection', 'something'], ['think', 'wants', 'show', 'shy'], ['shielding'], ['dab'], ['raising', 'arm', 'defense'], ['shielding', 'something', 'scared', 'fearful'], ['looked', 'like', 'distressed', 'scared']], [[0.29053748, 0.22514153, 0.28340128], [0.16181014], [0.46020803, 0.27506477, 0.79466367, 0.34073532], [0.41790527, 0.22580636], [0.14722256, 0.34073532], [0.46020803, 0.3538246, 0.13094948, 0.32871976], [0.14860956], [0.08696069], [0.08476745, 0.06255599, 0.08450824], [0.14860956, 0.34073532, 0.79466367, 0.69924116], [0.13409328, 0.38587266, 0.23923242, 0.79466367]]), ([['scratch', 'head', 'thinking'], ['thinking'], ['reflecting', 'something'], ['questioning'], ['hair', 'fiddling'], ['smelling', 'armpit'], ['thinking'], ['armpit', 'thing', 'idk', 'stretching'], ['asking', 'attention'], ['scratching', 'head', 'thinking'], ['scratching', 'head']], [[0.18036649, 0.07379476, 1.0], [1.0], [0.08667601, 0.4728136], [0.27021047], [0.1322092, 0.21647608], [0.24134138, 0.061083637], [1.0], [0.061083637, 0.4372217, 0.21707757, 0.20354113], [0.36458313, 0.19147818], [0.3424771, 0.07379476, 1.0], [0.3424771, 0.07379476]]), ([['give', 'thing'], ['look', 'something'], ['feel', 'like', 'wants', 'pull', 'something'], ['wanted', 'something', 'laying', 'floor'], ['shaking', 'hand'], ['kind', 'danger'], ['reaching'], ['pull', 'communicates', 'surprise', 'distracting'], ['holding', 'hand', 'greeting'], ['unsure', 'something', 'trying', 'move', 'something'], ['think', 'pointing', 'something', 'checking', 'person', 'understood', 'nodding']], [[0.09706643, 0.10989085], [0.31471634, 0.10985067], [0.12910686, 0.14310993, 0.12659045, 0.27236527, 0.10985067], [0.11067401, 0.10985067, 0.29899508, 0.046312544], [0.26748952, 0.21502283], [0.11824571, 0.083930194], [0.2580994], [0.27236527, 0.14442417, 0.035327267, 0.1539007], [0.2638182, 0.21502283, 0.16681047], [0.13994318, 0.10985067, 0.1889489, 0.17117624, 0.10985067], [0.22488858, 0.99999994, 0.10985067, 0.28033966, -0.0019864312, 0.156793, 0.31987023]]), ([['oh', 'happening', 'something'], ['dance', 'move'], ['seems', 'like', 'pulling', 'imaginary', 'hair', 'head', 'looks'], ['something', 'loving'], ['raising', 'hand', 'class'], ['keep', 'tight', 'stay', 'focused', 'wants', 'tell'], ['catching', 'something'], ['smell', 'armpit', 'feel', 'sorry'], ['asking', 'help'], ['trying', 'get', 'attention'], ['really', 'know', 'sort', 'looked', 'like', 'giving', 'finger']], [[0.1584938, 0.22752905, 0.24918859], [0.020083511, 0.16036464], [0.19461949, 0.17894275, 0.2605645, 0.15954247, 0.09262219, 0.060664058, 0.08588082], [0.24918859, 0.16650064], [0.19458479, 0.04899786, 0.069414236], [0.05445448, -0.0029236872, 0.0027583097, 0.1515771, 0.04984516, 0.2709785], [0.33120725, 0.24918859], [0.049967136, 0.062025405, 0.29051742, 0.16962563], [0.20989469, 0.08810461], [0.18327871, 0.2504778, 0.16228522], [0.27363715, 0.30810937, 0.14825869, 0.1913532, 0.17894275, 0.29684862, 0.022043623]])]\n"
     ]
    }
   ],
   "source": [
    "print([r1,r2,r3,r4,r5,r6,r7,r8])"
   ]
  },
  {
   "cell_type": "code",
   "execution_count": 2,
   "metadata": {},
   "outputs": [
    {
     "name": "stdout",
     "output_type": "stream",
     "text": [
      "Pretty printing has been turned OFF\n"
     ]
    }
   ],
   "source": [
    "pprint([[1],2,3,4])"
   ]
  },
  {
   "cell_type": "code",
   "execution_count": null,
   "metadata": {},
   "outputs": [],
   "source": []
  }
 ],
 "metadata": {
  "kernelspec": {
   "display_name": "Python 3",
   "language": "python",
   "name": "python3"
  },
  "language_info": {
   "codemirror_mode": {
    "name": "ipython",
    "version": 3
   },
   "file_extension": ".py",
   "mimetype": "text/x-python",
   "name": "python",
   "nbconvert_exporter": "python",
   "pygments_lexer": "ipython3",
   "version": "3.6.3"
  }
 },
 "nbformat": 4,
 "nbformat_minor": 2
}
